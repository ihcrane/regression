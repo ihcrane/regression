{
 "cells": [
  {
   "cell_type": "markdown",
   "id": "a1d07753",
   "metadata": {},
   "source": [
    "## Regression Model Evaluation\n",
    "\n",
    "### RMSE and R^2, your new best friends"
   ]
  },
  {
   "cell_type": "code",
   "execution_count": 74,
   "id": "ddfbd84b",
   "metadata": {},
   "outputs": [],
   "source": [
    "import pandas as pd\n",
    "import numpy as np\n",
    "import matplotlib.pyplot as plt\n",
    "from math import sqrt\n",
    "from sklearn.linear_model import LinearRegression\n",
    "from sklearn.metrics import mean_squared_error, r2_score, explained_variance_score\n",
    "\n",
    "from prepare import train_val_test\n",
    "from acquire import get_auto_mpg"
   ]
  },
  {
   "cell_type": "code",
   "execution_count": 75,
   "id": "26f1ec31",
   "metadata": {},
   "outputs": [
    {
     "data": {
      "text/html": [
       "<div>\n",
       "<style scoped>\n",
       "    .dataframe tbody tr th:only-of-type {\n",
       "        vertical-align: middle;\n",
       "    }\n",
       "\n",
       "    .dataframe tbody tr th {\n",
       "        vertical-align: top;\n",
       "    }\n",
       "\n",
       "    .dataframe thead th {\n",
       "        text-align: right;\n",
       "    }\n",
       "</style>\n",
       "<table border=\"1\" class=\"dataframe\">\n",
       "  <thead>\n",
       "    <tr style=\"text-align: right;\">\n",
       "      <th></th>\n",
       "      <th>mpg</th>\n",
       "      <th>cylinders</th>\n",
       "      <th>displ</th>\n",
       "      <th>horsepower</th>\n",
       "      <th>weight</th>\n",
       "      <th>acc</th>\n",
       "      <th>model_year</th>\n",
       "      <th>origin</th>\n",
       "      <th>name</th>\n",
       "    </tr>\n",
       "  </thead>\n",
       "  <tbody>\n",
       "    <tr>\n",
       "      <th>0</th>\n",
       "      <td>18.0</td>\n",
       "      <td>8</td>\n",
       "      <td>307.0</td>\n",
       "      <td>130.0</td>\n",
       "      <td>3504.0</td>\n",
       "      <td>12.0</td>\n",
       "      <td>70</td>\n",
       "      <td>1</td>\n",
       "      <td>\"chevrolet chevelle malibu\"</td>\n",
       "    </tr>\n",
       "    <tr>\n",
       "      <th>1</th>\n",
       "      <td>15.0</td>\n",
       "      <td>8</td>\n",
       "      <td>350.0</td>\n",
       "      <td>165.0</td>\n",
       "      <td>3693.0</td>\n",
       "      <td>11.5</td>\n",
       "      <td>70</td>\n",
       "      <td>1</td>\n",
       "      <td>\"buick skylark 320\"</td>\n",
       "    </tr>\n",
       "    <tr>\n",
       "      <th>2</th>\n",
       "      <td>18.0</td>\n",
       "      <td>8</td>\n",
       "      <td>318.0</td>\n",
       "      <td>150.0</td>\n",
       "      <td>3436.0</td>\n",
       "      <td>11.0</td>\n",
       "      <td>70</td>\n",
       "      <td>1</td>\n",
       "      <td>\"plymouth satellite\"</td>\n",
       "    </tr>\n",
       "    <tr>\n",
       "      <th>3</th>\n",
       "      <td>16.0</td>\n",
       "      <td>8</td>\n",
       "      <td>304.0</td>\n",
       "      <td>150.0</td>\n",
       "      <td>3433.0</td>\n",
       "      <td>12.0</td>\n",
       "      <td>70</td>\n",
       "      <td>1</td>\n",
       "      <td>\"amc rebel sst\"</td>\n",
       "    </tr>\n",
       "    <tr>\n",
       "      <th>4</th>\n",
       "      <td>17.0</td>\n",
       "      <td>8</td>\n",
       "      <td>302.0</td>\n",
       "      <td>140.0</td>\n",
       "      <td>3449.0</td>\n",
       "      <td>10.5</td>\n",
       "      <td>70</td>\n",
       "      <td>1</td>\n",
       "      <td>\"ford torino\"</td>\n",
       "    </tr>\n",
       "  </tbody>\n",
       "</table>\n",
       "</div>"
      ],
      "text/plain": [
       "    mpg  cylinders  displ  horsepower  weight   acc  model_year  origin  \\\n",
       "0  18.0          8  307.0       130.0  3504.0  12.0          70       1   \n",
       "1  15.0          8  350.0       165.0  3693.0  11.5          70       1   \n",
       "2  18.0          8  318.0       150.0  3436.0  11.0          70       1   \n",
       "3  16.0          8  304.0       150.0  3433.0  12.0          70       1   \n",
       "4  17.0          8  302.0       140.0  3449.0  10.5          70       1   \n",
       "\n",
       "                          name  \n",
       "0  \"chevrolet chevelle malibu\"  \n",
       "1          \"buick skylark 320\"  \n",
       "2         \"plymouth satellite\"  \n",
       "3              \"amc rebel sst\"  \n",
       "4                \"ford torino\"  "
      ]
     },
     "execution_count": 75,
     "metadata": {},
     "output_type": "execute_result"
    }
   ],
   "source": [
    "df = get_auto_mpg()\n",
    "df.head()"
   ]
  },
  {
   "cell_type": "code",
   "execution_count": 76,
   "id": "1b641120",
   "metadata": {},
   "outputs": [
    {
     "data": {
      "text/plain": [
       "((235, 9), (78, 9), (79, 9))"
      ]
     },
     "execution_count": 76,
     "metadata": {},
     "output_type": "execute_result"
    }
   ],
   "source": [
    "train, val, test = train_val_test(df, stratify='mpg')\n",
    "train.shape, val.shape, test.shape"
   ]
  },
  {
   "cell_type": "markdown",
   "id": "ae4f7381",
   "metadata": {},
   "source": [
    "## Establish baseline and model predictions\n",
    "\n",
    "The baseline is the mean of the actual values.\n",
    "\n",
    "A basic LinearRegression model will be used to make predictions."
   ]
  },
  {
   "cell_type": "code",
   "execution_count": 77,
   "id": "8bde1466",
   "metadata": {},
   "outputs": [
    {
     "data": {
      "text/plain": [
       "23.503829787234046"
      ]
     },
     "execution_count": 77,
     "metadata": {},
     "output_type": "execute_result"
    }
   ],
   "source": [
    "train['mpg'].mean()"
   ]
  },
  {
   "cell_type": "code",
   "execution_count": 78,
   "id": "854dbe4f",
   "metadata": {},
   "outputs": [],
   "source": [
    "preds = train[['horsepower', 'mpg']]"
   ]
  },
  {
   "cell_type": "code",
   "execution_count": 79,
   "id": "a1132356",
   "metadata": {},
   "outputs": [
    {
     "data": {
      "text/html": [
       "<div>\n",
       "<style scoped>\n",
       "    .dataframe tbody tr th:only-of-type {\n",
       "        vertical-align: middle;\n",
       "    }\n",
       "\n",
       "    .dataframe tbody tr th {\n",
       "        vertical-align: top;\n",
       "    }\n",
       "\n",
       "    .dataframe thead th {\n",
       "        text-align: right;\n",
       "    }\n",
       "</style>\n",
       "<table border=\"1\" class=\"dataframe\">\n",
       "  <thead>\n",
       "    <tr style=\"text-align: right;\">\n",
       "      <th></th>\n",
       "      <th>horsepower</th>\n",
       "      <th>mpg</th>\n",
       "      <th>baseline_preds</th>\n",
       "    </tr>\n",
       "  </thead>\n",
       "  <tbody>\n",
       "    <tr>\n",
       "      <th>212</th>\n",
       "      <td>180.0</td>\n",
       "      <td>16.5</td>\n",
       "      <td>23.5</td>\n",
       "    </tr>\n",
       "    <tr>\n",
       "      <th>346</th>\n",
       "      <td>67.0</td>\n",
       "      <td>32.3</td>\n",
       "      <td>23.5</td>\n",
       "    </tr>\n",
       "    <tr>\n",
       "      <th>325</th>\n",
       "      <td>48.0</td>\n",
       "      <td>44.3</td>\n",
       "      <td>23.5</td>\n",
       "    </tr>\n",
       "    <tr>\n",
       "      <th>90</th>\n",
       "      <td>198.0</td>\n",
       "      <td>12.0</td>\n",
       "      <td>23.5</td>\n",
       "    </tr>\n",
       "    <tr>\n",
       "      <th>246</th>\n",
       "      <td>52.0</td>\n",
       "      <td>32.8</td>\n",
       "      <td>23.5</td>\n",
       "    </tr>\n",
       "  </tbody>\n",
       "</table>\n",
       "</div>"
      ],
      "text/plain": [
       "     horsepower   mpg  baseline_preds\n",
       "212       180.0  16.5            23.5\n",
       "346        67.0  32.3            23.5\n",
       "325        48.0  44.3            23.5\n",
       "90        198.0  12.0            23.5\n",
       "246        52.0  32.8            23.5"
      ]
     },
     "execution_count": 79,
     "metadata": {},
     "output_type": "execute_result"
    }
   ],
   "source": [
    "preds['baseline_preds'] = round(train['mpg'].mean(), 2)\n",
    "preds.head()"
   ]
  },
  {
   "cell_type": "code",
   "execution_count": 80,
   "id": "3be3d519",
   "metadata": {},
   "outputs": [
    {
     "data": {
      "text/html": [
       "<style>#sk-container-id-2 {color: black;background-color: white;}#sk-container-id-2 pre{padding: 0;}#sk-container-id-2 div.sk-toggleable {background-color: white;}#sk-container-id-2 label.sk-toggleable__label {cursor: pointer;display: block;width: 100%;margin-bottom: 0;padding: 0.3em;box-sizing: border-box;text-align: center;}#sk-container-id-2 label.sk-toggleable__label-arrow:before {content: \"▸\";float: left;margin-right: 0.25em;color: #696969;}#sk-container-id-2 label.sk-toggleable__label-arrow:hover:before {color: black;}#sk-container-id-2 div.sk-estimator:hover label.sk-toggleable__label-arrow:before {color: black;}#sk-container-id-2 div.sk-toggleable__content {max-height: 0;max-width: 0;overflow: hidden;text-align: left;background-color: #f0f8ff;}#sk-container-id-2 div.sk-toggleable__content pre {margin: 0.2em;color: black;border-radius: 0.25em;background-color: #f0f8ff;}#sk-container-id-2 input.sk-toggleable__control:checked~div.sk-toggleable__content {max-height: 200px;max-width: 100%;overflow: auto;}#sk-container-id-2 input.sk-toggleable__control:checked~label.sk-toggleable__label-arrow:before {content: \"▾\";}#sk-container-id-2 div.sk-estimator input.sk-toggleable__control:checked~label.sk-toggleable__label {background-color: #d4ebff;}#sk-container-id-2 div.sk-label input.sk-toggleable__control:checked~label.sk-toggleable__label {background-color: #d4ebff;}#sk-container-id-2 input.sk-hidden--visually {border: 0;clip: rect(1px 1px 1px 1px);clip: rect(1px, 1px, 1px, 1px);height: 1px;margin: -1px;overflow: hidden;padding: 0;position: absolute;width: 1px;}#sk-container-id-2 div.sk-estimator {font-family: monospace;background-color: #f0f8ff;border: 1px dotted black;border-radius: 0.25em;box-sizing: border-box;margin-bottom: 0.5em;}#sk-container-id-2 div.sk-estimator:hover {background-color: #d4ebff;}#sk-container-id-2 div.sk-parallel-item::after {content: \"\";width: 100%;border-bottom: 1px solid gray;flex-grow: 1;}#sk-container-id-2 div.sk-label:hover label.sk-toggleable__label {background-color: #d4ebff;}#sk-container-id-2 div.sk-serial::before {content: \"\";position: absolute;border-left: 1px solid gray;box-sizing: border-box;top: 0;bottom: 0;left: 50%;z-index: 0;}#sk-container-id-2 div.sk-serial {display: flex;flex-direction: column;align-items: center;background-color: white;padding-right: 0.2em;padding-left: 0.2em;position: relative;}#sk-container-id-2 div.sk-item {position: relative;z-index: 1;}#sk-container-id-2 div.sk-parallel {display: flex;align-items: stretch;justify-content: center;background-color: white;position: relative;}#sk-container-id-2 div.sk-item::before, #sk-container-id-2 div.sk-parallel-item::before {content: \"\";position: absolute;border-left: 1px solid gray;box-sizing: border-box;top: 0;bottom: 0;left: 50%;z-index: -1;}#sk-container-id-2 div.sk-parallel-item {display: flex;flex-direction: column;z-index: 1;position: relative;background-color: white;}#sk-container-id-2 div.sk-parallel-item:first-child::after {align-self: flex-end;width: 50%;}#sk-container-id-2 div.sk-parallel-item:last-child::after {align-self: flex-start;width: 50%;}#sk-container-id-2 div.sk-parallel-item:only-child::after {width: 0;}#sk-container-id-2 div.sk-dashed-wrapped {border: 1px dashed gray;margin: 0 0.4em 0.5em 0.4em;box-sizing: border-box;padding-bottom: 0.4em;background-color: white;}#sk-container-id-2 div.sk-label label {font-family: monospace;font-weight: bold;display: inline-block;line-height: 1.2em;}#sk-container-id-2 div.sk-label-container {text-align: center;}#sk-container-id-2 div.sk-container {/* jupyter's `normalize.less` sets `[hidden] { display: none; }` but bootstrap.min.css set `[hidden] { display: none !important; }` so we also need the `!important` here to be able to override the default hidden behavior on the sphinx rendered scikit-learn.org. See: https://github.com/scikit-learn/scikit-learn/issues/21755 */display: inline-block !important;position: relative;}#sk-container-id-2 div.sk-text-repr-fallback {display: none;}</style><div id=\"sk-container-id-2\" class=\"sk-top-container\"><div class=\"sk-text-repr-fallback\"><pre>LinearRegression()</pre><b>In a Jupyter environment, please rerun this cell to show the HTML representation or trust the notebook. <br />On GitHub, the HTML representation is unable to render, please try loading this page with nbviewer.org.</b></div><div class=\"sk-container\" hidden><div class=\"sk-item\"><div class=\"sk-estimator sk-toggleable\"><input class=\"sk-toggleable__control sk-hidden--visually\" id=\"sk-estimator-id-2\" type=\"checkbox\" checked><label for=\"sk-estimator-id-2\" class=\"sk-toggleable__label sk-toggleable__label-arrow\">LinearRegression</label><div class=\"sk-toggleable__content\"><pre>LinearRegression()</pre></div></div></div></div></div>"
      ],
      "text/plain": [
       "LinearRegression()"
      ]
     },
     "execution_count": 80,
     "metadata": {},
     "output_type": "execute_result"
    }
   ],
   "source": [
    "ols_model = LinearRegression()\n",
    "\n",
    "ols_model.fit(train[['horsepower']], train[['mpg']])"
   ]
  },
  {
   "cell_type": "code",
   "execution_count": 81,
   "id": "4cb0ee93",
   "metadata": {},
   "outputs": [
    {
     "data": {
      "text/html": [
       "<div>\n",
       "<style scoped>\n",
       "    .dataframe tbody tr th:only-of-type {\n",
       "        vertical-align: middle;\n",
       "    }\n",
       "\n",
       "    .dataframe tbody tr th {\n",
       "        vertical-align: top;\n",
       "    }\n",
       "\n",
       "    .dataframe thead th {\n",
       "        text-align: right;\n",
       "    }\n",
       "</style>\n",
       "<table border=\"1\" class=\"dataframe\">\n",
       "  <thead>\n",
       "    <tr style=\"text-align: right;\">\n",
       "      <th></th>\n",
       "      <th>horsepower</th>\n",
       "      <th>mpg</th>\n",
       "      <th>baseline_preds</th>\n",
       "      <th>yhat</th>\n",
       "    </tr>\n",
       "  </thead>\n",
       "  <tbody>\n",
       "    <tr>\n",
       "      <th>212</th>\n",
       "      <td>180.0</td>\n",
       "      <td>16.5</td>\n",
       "      <td>23.5</td>\n",
       "      <td>11.058302</td>\n",
       "    </tr>\n",
       "    <tr>\n",
       "      <th>346</th>\n",
       "      <td>67.0</td>\n",
       "      <td>32.3</td>\n",
       "      <td>23.5</td>\n",
       "      <td>30.114463</td>\n",
       "    </tr>\n",
       "    <tr>\n",
       "      <th>325</th>\n",
       "      <td>48.0</td>\n",
       "      <td>44.3</td>\n",
       "      <td>23.5</td>\n",
       "      <td>33.318596</td>\n",
       "    </tr>\n",
       "    <tr>\n",
       "      <th>90</th>\n",
       "      <td>198.0</td>\n",
       "      <td>12.0</td>\n",
       "      <td>23.5</td>\n",
       "      <td>8.022807</td>\n",
       "    </tr>\n",
       "    <tr>\n",
       "      <th>246</th>\n",
       "      <td>52.0</td>\n",
       "      <td>32.8</td>\n",
       "      <td>23.5</td>\n",
       "      <td>32.644042</td>\n",
       "    </tr>\n",
       "  </tbody>\n",
       "</table>\n",
       "</div>"
      ],
      "text/plain": [
       "     horsepower   mpg  baseline_preds       yhat\n",
       "212       180.0  16.5            23.5  11.058302\n",
       "346        67.0  32.3            23.5  30.114463\n",
       "325        48.0  44.3            23.5  33.318596\n",
       "90        198.0  12.0            23.5   8.022807\n",
       "246        52.0  32.8            23.5  32.644042"
      ]
     },
     "execution_count": 81,
     "metadata": {},
     "output_type": "execute_result"
    }
   ],
   "source": [
    "preds['yhat'] = ols_model.predict(train[['horsepower']])\n",
    "preds.head()"
   ]
  },
  {
   "cell_type": "markdown",
   "id": "ffe6eae1",
   "metadata": {},
   "source": [
    "## Compute residuals\n",
    "\n",
    "Predictions minus actual"
   ]
  },
  {
   "cell_type": "code",
   "execution_count": 82,
   "id": "c4a14efb",
   "metadata": {},
   "outputs": [
    {
     "data": {
      "text/html": [
       "<div>\n",
       "<style scoped>\n",
       "    .dataframe tbody tr th:only-of-type {\n",
       "        vertical-align: middle;\n",
       "    }\n",
       "\n",
       "    .dataframe tbody tr th {\n",
       "        vertical-align: top;\n",
       "    }\n",
       "\n",
       "    .dataframe thead th {\n",
       "        text-align: right;\n",
       "    }\n",
       "</style>\n",
       "<table border=\"1\" class=\"dataframe\">\n",
       "  <thead>\n",
       "    <tr style=\"text-align: right;\">\n",
       "      <th></th>\n",
       "      <th>horsepower</th>\n",
       "      <th>mpg</th>\n",
       "      <th>baseline_preds</th>\n",
       "      <th>yhat</th>\n",
       "      <th>baseline_res</th>\n",
       "    </tr>\n",
       "  </thead>\n",
       "  <tbody>\n",
       "    <tr>\n",
       "      <th>212</th>\n",
       "      <td>180.0</td>\n",
       "      <td>16.5</td>\n",
       "      <td>23.5</td>\n",
       "      <td>11.058302</td>\n",
       "      <td>7.0</td>\n",
       "    </tr>\n",
       "    <tr>\n",
       "      <th>346</th>\n",
       "      <td>67.0</td>\n",
       "      <td>32.3</td>\n",
       "      <td>23.5</td>\n",
       "      <td>30.114463</td>\n",
       "      <td>-8.8</td>\n",
       "    </tr>\n",
       "    <tr>\n",
       "      <th>325</th>\n",
       "      <td>48.0</td>\n",
       "      <td>44.3</td>\n",
       "      <td>23.5</td>\n",
       "      <td>33.318596</td>\n",
       "      <td>-20.8</td>\n",
       "    </tr>\n",
       "    <tr>\n",
       "      <th>90</th>\n",
       "      <td>198.0</td>\n",
       "      <td>12.0</td>\n",
       "      <td>23.5</td>\n",
       "      <td>8.022807</td>\n",
       "      <td>11.5</td>\n",
       "    </tr>\n",
       "    <tr>\n",
       "      <th>246</th>\n",
       "      <td>52.0</td>\n",
       "      <td>32.8</td>\n",
       "      <td>23.5</td>\n",
       "      <td>32.644042</td>\n",
       "      <td>-9.3</td>\n",
       "    </tr>\n",
       "  </tbody>\n",
       "</table>\n",
       "</div>"
      ],
      "text/plain": [
       "     horsepower   mpg  baseline_preds       yhat  baseline_res\n",
       "212       180.0  16.5            23.5  11.058302           7.0\n",
       "346        67.0  32.3            23.5  30.114463          -8.8\n",
       "325        48.0  44.3            23.5  33.318596         -20.8\n",
       "90        198.0  12.0            23.5   8.022807          11.5\n",
       "246        52.0  32.8            23.5  32.644042          -9.3"
      ]
     },
     "execution_count": 82,
     "metadata": {},
     "output_type": "execute_result"
    }
   ],
   "source": [
    "preds['baseline_res'] = preds['baseline_preds'] - preds['mpg']\n",
    "preds.head()"
   ]
  },
  {
   "cell_type": "code",
   "execution_count": 83,
   "id": "f4b2819e",
   "metadata": {},
   "outputs": [
    {
     "data": {
      "image/png": "[encoded data removed]",
      "text/plain": [
       "<Figure size 640x480 with 1 Axes>"
      ]
     },
     "metadata": {},
     "output_type": "display_data"
    }
   ],
   "source": [
    "plt.scatter(preds['horsepower'], preds['baseline_res'])\n",
    "plt.xlabel('Horsepower')\n",
    "plt.ylabel('Baseline Residual')\n",
    "plt.show()"
   ]
  },
  {
   "cell_type": "code",
   "execution_count": 84,
   "id": "1c455bc2",
   "metadata": {},
   "outputs": [
    {
     "data": {
      "text/html": [
       "<div>\n",
       "<style scoped>\n",
       "    .dataframe tbody tr th:only-of-type {\n",
       "        vertical-align: middle;\n",
       "    }\n",
       "\n",
       "    .dataframe tbody tr th {\n",
       "        vertical-align: top;\n",
       "    }\n",
       "\n",
       "    .dataframe thead th {\n",
       "        text-align: right;\n",
       "    }\n",
       "</style>\n",
       "<table border=\"1\" class=\"dataframe\">\n",
       "  <thead>\n",
       "    <tr style=\"text-align: right;\">\n",
       "      <th></th>\n",
       "      <th>horsepower</th>\n",
       "      <th>mpg</th>\n",
       "      <th>baseline_preds</th>\n",
       "      <th>yhat</th>\n",
       "      <th>baseline_res</th>\n",
       "      <th>yhat_res</th>\n",
       "    </tr>\n",
       "  </thead>\n",
       "  <tbody>\n",
       "    <tr>\n",
       "      <th>212</th>\n",
       "      <td>180.0</td>\n",
       "      <td>16.5</td>\n",
       "      <td>23.5</td>\n",
       "      <td>11.058302</td>\n",
       "      <td>7.0</td>\n",
       "      <td>-5.441698</td>\n",
       "    </tr>\n",
       "    <tr>\n",
       "      <th>346</th>\n",
       "      <td>67.0</td>\n",
       "      <td>32.3</td>\n",
       "      <td>23.5</td>\n",
       "      <td>30.114463</td>\n",
       "      <td>-8.8</td>\n",
       "      <td>-2.185537</td>\n",
       "    </tr>\n",
       "    <tr>\n",
       "      <th>325</th>\n",
       "      <td>48.0</td>\n",
       "      <td>44.3</td>\n",
       "      <td>23.5</td>\n",
       "      <td>33.318596</td>\n",
       "      <td>-20.8</td>\n",
       "      <td>-10.981404</td>\n",
       "    </tr>\n",
       "    <tr>\n",
       "      <th>90</th>\n",
       "      <td>198.0</td>\n",
       "      <td>12.0</td>\n",
       "      <td>23.5</td>\n",
       "      <td>8.022807</td>\n",
       "      <td>11.5</td>\n",
       "      <td>-3.977193</td>\n",
       "    </tr>\n",
       "    <tr>\n",
       "      <th>246</th>\n",
       "      <td>52.0</td>\n",
       "      <td>32.8</td>\n",
       "      <td>23.5</td>\n",
       "      <td>32.644042</td>\n",
       "      <td>-9.3</td>\n",
       "      <td>-0.155958</td>\n",
       "    </tr>\n",
       "  </tbody>\n",
       "</table>\n",
       "</div>"
      ],
      "text/plain": [
       "     horsepower   mpg  baseline_preds       yhat  baseline_res   yhat_res\n",
       "212       180.0  16.5            23.5  11.058302           7.0  -5.441698\n",
       "346        67.0  32.3            23.5  30.114463          -8.8  -2.185537\n",
       "325        48.0  44.3            23.5  33.318596         -20.8 -10.981404\n",
       "90        198.0  12.0            23.5   8.022807          11.5  -3.977193\n",
       "246        52.0  32.8            23.5  32.644042          -9.3  -0.155958"
      ]
     },
     "execution_count": 84,
     "metadata": {},
     "output_type": "execute_result"
    }
   ],
   "source": [
    "preds['yhat_res'] = preds['yhat'] - preds['mpg']\n",
    "preds.head()"
   ]
  },
  {
   "cell_type": "code",
   "execution_count": 85,
   "id": "0ea09a2a",
   "metadata": {},
   "outputs": [
    {
     "data": {
      "image/png": "[encoded data removed]",
      "text/plain": [
       "<Figure size 640x480 with 1 Axes>"
      ]
     },
     "metadata": {},
     "output_type": "display_data"
    }
   ],
   "source": [
    "plt.scatter(preds['horsepower'], preds['yhat_res'])\n",
    "plt.xlabel('Horsepower')\n",
    "plt.ylabel('Predictions residuals')\n",
    "plt.show()"
   ]
  },
  {
   "cell_type": "markdown",
   "id": "81624555",
   "metadata": {},
   "source": [
    "## Compute SSE\n",
    "\n",
    "SSE - Sum of Squared Errors\n",
    "\n",
    "Also known as RSS - Residual Sum of Squares\n",
    "\n",
    "Predicted minus actual, squared and summed"
   ]
  },
  {
   "cell_type": "code",
   "execution_count": 86,
   "id": "85a9c587",
   "metadata": {},
   "outputs": [
    {
     "data": {
      "text/plain": [
       "Index(['horsepower', 'mpg', 'baseline_preds', 'yhat', 'baseline_res',\n",
       "       'yhat_res'],\n",
       "      dtype='object')"
      ]
     },
     "execution_count": 86,
     "metadata": {},
     "output_type": "execute_result"
    }
   ],
   "source": [
    "preds.columns"
   ]
  },
  {
   "cell_type": "code",
   "execution_count": 87,
   "id": "7bdf5522",
   "metadata": {},
   "outputs": [
    {
     "data": {
      "text/html": [
       "<div>\n",
       "<style scoped>\n",
       "    .dataframe tbody tr th:only-of-type {\n",
       "        vertical-align: middle;\n",
       "    }\n",
       "\n",
       "    .dataframe tbody tr th {\n",
       "        vertical-align: top;\n",
       "    }\n",
       "\n",
       "    .dataframe thead th {\n",
       "        text-align: right;\n",
       "    }\n",
       "</style>\n",
       "<table border=\"1\" class=\"dataframe\">\n",
       "  <thead>\n",
       "    <tr style=\"text-align: right;\">\n",
       "      <th></th>\n",
       "      <th>horsepower</th>\n",
       "      <th>mpg</th>\n",
       "      <th>baseline_preds</th>\n",
       "      <th>yhat</th>\n",
       "      <th>baseline_res</th>\n",
       "      <th>yhat_res</th>\n",
       "      <th>baseline_res_squared</th>\n",
       "      <th>yhat_res_squared</th>\n",
       "    </tr>\n",
       "  </thead>\n",
       "  <tbody>\n",
       "    <tr>\n",
       "      <th>212</th>\n",
       "      <td>180.0</td>\n",
       "      <td>16.5</td>\n",
       "      <td>23.5</td>\n",
       "      <td>11.058302</td>\n",
       "      <td>7.0</td>\n",
       "      <td>-5.441698</td>\n",
       "      <td>49.00</td>\n",
       "      <td>29.612081</td>\n",
       "    </tr>\n",
       "    <tr>\n",
       "      <th>346</th>\n",
       "      <td>67.0</td>\n",
       "      <td>32.3</td>\n",
       "      <td>23.5</td>\n",
       "      <td>30.114463</td>\n",
       "      <td>-8.8</td>\n",
       "      <td>-2.185537</td>\n",
       "      <td>77.44</td>\n",
       "      <td>4.776574</td>\n",
       "    </tr>\n",
       "    <tr>\n",
       "      <th>325</th>\n",
       "      <td>48.0</td>\n",
       "      <td>44.3</td>\n",
       "      <td>23.5</td>\n",
       "      <td>33.318596</td>\n",
       "      <td>-20.8</td>\n",
       "      <td>-10.981404</td>\n",
       "      <td>432.64</td>\n",
       "      <td>120.591236</td>\n",
       "    </tr>\n",
       "    <tr>\n",
       "      <th>90</th>\n",
       "      <td>198.0</td>\n",
       "      <td>12.0</td>\n",
       "      <td>23.5</td>\n",
       "      <td>8.022807</td>\n",
       "      <td>11.5</td>\n",
       "      <td>-3.977193</td>\n",
       "      <td>132.25</td>\n",
       "      <td>15.818065</td>\n",
       "    </tr>\n",
       "    <tr>\n",
       "      <th>246</th>\n",
       "      <td>52.0</td>\n",
       "      <td>32.8</td>\n",
       "      <td>23.5</td>\n",
       "      <td>32.644042</td>\n",
       "      <td>-9.3</td>\n",
       "      <td>-0.155958</td>\n",
       "      <td>86.49</td>\n",
       "      <td>0.024323</td>\n",
       "    </tr>\n",
       "  </tbody>\n",
       "</table>\n",
       "</div>"
      ],
      "text/plain": [
       "     horsepower   mpg  baseline_preds       yhat  baseline_res   yhat_res  \\\n",
       "212       180.0  16.5            23.5  11.058302           7.0  -5.441698   \n",
       "346        67.0  32.3            23.5  30.114463          -8.8  -2.185537   \n",
       "325        48.0  44.3            23.5  33.318596         -20.8 -10.981404   \n",
       "90        198.0  12.0            23.5   8.022807          11.5  -3.977193   \n",
       "246        52.0  32.8            23.5  32.644042          -9.3  -0.155958   \n",
       "\n",
       "     baseline_res_squared  yhat_res_squared  \n",
       "212                 49.00         29.612081  \n",
       "346                 77.44          4.776574  \n",
       "325                432.64        120.591236  \n",
       "90                 132.25         15.818065  \n",
       "246                 86.49          0.024323  "
      ]
     },
     "execution_count": 87,
     "metadata": {},
     "output_type": "execute_result"
    }
   ],
   "source": [
    "preds['baseline_res_squared'] = preds['baseline_res'] ** 2\n",
    "preds['yhat_res_squared'] = preds['yhat_res'] ** 2\n",
    "preds.head()"
   ]
  },
  {
   "cell_type": "code",
   "execution_count": 88,
   "id": "d58bdf6a",
   "metadata": {},
   "outputs": [
    {
     "data": {
      "text/plain": [
       "(15330.830000000002, 5355.469277811718)"
      ]
     },
     "execution_count": 88,
     "metadata": {},
     "output_type": "execute_result"
    }
   ],
   "source": [
    "sse_baseline = preds['baseline_res_squared'].sum()\n",
    "sse_yhat = preds['yhat_res_squared'].sum()\n",
    "sse_baseline, sse_yhat"
   ]
  },
  {
   "cell_type": "markdown",
   "id": "f4dd945f",
   "metadata": {},
   "source": [
    "## Compute MSE\n",
    "\n",
    "MSE - Mean Squared Error\n",
    "\n",
    "Divide the SSE by the total number of data points"
   ]
  },
  {
   "cell_type": "code",
   "execution_count": 89,
   "id": "bd5f3dd0",
   "metadata": {},
   "outputs": [
    {
     "data": {
      "text/plain": [
       "(65.23757446808511, 22.789230969411566)"
      ]
     },
     "execution_count": 89,
     "metadata": {},
     "output_type": "execute_result"
    }
   ],
   "source": [
    "mse_baseline = sse_baseline/len(preds)\n",
    "mse_yhat = sse_yhat/len(preds)\n",
    "\n",
    "mse_baseline, mse_yhat"
   ]
  },
  {
   "cell_type": "markdown",
   "id": "72e9ff06",
   "metadata": {},
   "source": [
    "## Compute RMSE\n",
    "\n",
    "RMSE - Root Mean Squared Error\n",
    "\n",
    "Take the square root of the MSE"
   ]
  },
  {
   "cell_type": "code",
   "execution_count": 90,
   "id": "ddb9e564",
   "metadata": {},
   "outputs": [
    {
     "data": {
      "text/plain": [
       "(8.076978052965423, 4.773806758700185)"
      ]
     },
     "execution_count": 90,
     "metadata": {},
     "output_type": "execute_result"
    }
   ],
   "source": [
    "rmse_baseline = sqrt(mse_baseline)\n",
    "rmse_yhat = sqrt(mse_yhat)\n",
    "\n",
    "rmse_baseline, rmse_yhat"
   ]
  },
  {
   "cell_type": "markdown",
   "id": "1b2691fa",
   "metadata": {},
   "source": [
    "## Doint it all with the sklearn library\n",
    "\n",
    "mean_squared_error"
   ]
  },
  {
   "cell_type": "code",
   "execution_count": 91,
   "id": "a4a580dd",
   "metadata": {},
   "outputs": [
    {
     "data": {
      "text/plain": [
       "Index(['horsepower', 'mpg', 'baseline_preds', 'yhat', 'baseline_res',\n",
       "       'yhat_res', 'baseline_res_squared', 'yhat_res_squared'],\n",
       "      dtype='object')"
      ]
     },
     "execution_count": 91,
     "metadata": {},
     "output_type": "execute_result"
    }
   ],
   "source": [
    "preds.columns"
   ]
  },
  {
   "cell_type": "code",
   "execution_count": 92,
   "id": "5a981db3",
   "metadata": {},
   "outputs": [
    {
     "data": {
      "text/plain": [
       "8.076978052965423"
      ]
     },
     "execution_count": 92,
     "metadata": {},
     "output_type": "execute_result"
    }
   ],
   "source": [
    "sqrt(mean_squared_error(preds['mpg'], preds['baseline_preds']))"
   ]
  },
  {
   "cell_type": "code",
   "execution_count": 93,
   "id": "9792fafa",
   "metadata": {},
   "outputs": [
    {
     "data": {
      "text/plain": [
       "4.773806758700185"
      ]
     },
     "execution_count": 93,
     "metadata": {},
     "output_type": "execute_result"
    }
   ],
   "source": [
    "sqrt(mean_squared_error(preds['mpg'], preds['yhat']))"
   ]
  },
  {
   "cell_type": "code",
   "execution_count": 94,
   "id": "a343a5ab",
   "metadata": {},
   "outputs": [
    {
     "data": {
      "text/plain": [
       "4.773806758700185"
      ]
     },
     "execution_count": 94,
     "metadata": {},
     "output_type": "execute_result"
    }
   ],
   "source": [
    "mean_squared_error(preds['yhat'], preds['mpg'], squared=False)"
   ]
  },
  {
   "cell_type": "markdown",
   "id": "913b4f8a",
   "metadata": {},
   "source": [
    "## Model significance\n",
    "\n",
    "Calculating the R^2 value by hand\n",
    "\n",
    "R^2 = ESS / TSS"
   ]
  },
  {
   "cell_type": "markdown",
   "id": "b18a9e2d",
   "metadata": {},
   "source": [
    "## Compute ESS\n",
    "\n",
    "ESS - Explained Sum of Squares\n",
    "\n",
    "Prediction minus mean of actual values, squared and summed"
   ]
  },
  {
   "cell_type": "code",
   "execution_count": 95,
   "id": "9abbf3a5",
   "metadata": {},
   "outputs": [
    {
     "data": {
      "text/html": [
       "<div>\n",
       "<style scoped>\n",
       "    .dataframe tbody tr th:only-of-type {\n",
       "        vertical-align: middle;\n",
       "    }\n",
       "\n",
       "    .dataframe tbody tr th {\n",
       "        vertical-align: top;\n",
       "    }\n",
       "\n",
       "    .dataframe thead th {\n",
       "        text-align: right;\n",
       "    }\n",
       "</style>\n",
       "<table border=\"1\" class=\"dataframe\">\n",
       "  <thead>\n",
       "    <tr style=\"text-align: right;\">\n",
       "      <th></th>\n",
       "      <th>horsepower</th>\n",
       "      <th>mpg</th>\n",
       "      <th>baseline_preds</th>\n",
       "      <th>yhat</th>\n",
       "      <th>baseline_res</th>\n",
       "      <th>yhat_res</th>\n",
       "      <th>baseline_res_squared</th>\n",
       "      <th>yhat_res_squared</th>\n",
       "    </tr>\n",
       "  </thead>\n",
       "  <tbody>\n",
       "    <tr>\n",
       "      <th>212</th>\n",
       "      <td>180.0</td>\n",
       "      <td>16.5</td>\n",
       "      <td>23.5</td>\n",
       "      <td>11.058302</td>\n",
       "      <td>7.0</td>\n",
       "      <td>-5.441698</td>\n",
       "      <td>49.00</td>\n",
       "      <td>29.612081</td>\n",
       "    </tr>\n",
       "    <tr>\n",
       "      <th>346</th>\n",
       "      <td>67.0</td>\n",
       "      <td>32.3</td>\n",
       "      <td>23.5</td>\n",
       "      <td>30.114463</td>\n",
       "      <td>-8.8</td>\n",
       "      <td>-2.185537</td>\n",
       "      <td>77.44</td>\n",
       "      <td>4.776574</td>\n",
       "    </tr>\n",
       "    <tr>\n",
       "      <th>325</th>\n",
       "      <td>48.0</td>\n",
       "      <td>44.3</td>\n",
       "      <td>23.5</td>\n",
       "      <td>33.318596</td>\n",
       "      <td>-20.8</td>\n",
       "      <td>-10.981404</td>\n",
       "      <td>432.64</td>\n",
       "      <td>120.591236</td>\n",
       "    </tr>\n",
       "    <tr>\n",
       "      <th>90</th>\n",
       "      <td>198.0</td>\n",
       "      <td>12.0</td>\n",
       "      <td>23.5</td>\n",
       "      <td>8.022807</td>\n",
       "      <td>11.5</td>\n",
       "      <td>-3.977193</td>\n",
       "      <td>132.25</td>\n",
       "      <td>15.818065</td>\n",
       "    </tr>\n",
       "    <tr>\n",
       "      <th>246</th>\n",
       "      <td>52.0</td>\n",
       "      <td>32.8</td>\n",
       "      <td>23.5</td>\n",
       "      <td>32.644042</td>\n",
       "      <td>-9.3</td>\n",
       "      <td>-0.155958</td>\n",
       "      <td>86.49</td>\n",
       "      <td>0.024323</td>\n",
       "    </tr>\n",
       "  </tbody>\n",
       "</table>\n",
       "</div>"
      ],
      "text/plain": [
       "     horsepower   mpg  baseline_preds       yhat  baseline_res   yhat_res  \\\n",
       "212       180.0  16.5            23.5  11.058302           7.0  -5.441698   \n",
       "346        67.0  32.3            23.5  30.114463          -8.8  -2.185537   \n",
       "325        48.0  44.3            23.5  33.318596         -20.8 -10.981404   \n",
       "90        198.0  12.0            23.5   8.022807          11.5  -3.977193   \n",
       "246        52.0  32.8            23.5  32.644042          -9.3  -0.155958   \n",
       "\n",
       "     baseline_res_squared  yhat_res_squared  \n",
       "212                 49.00         29.612081  \n",
       "346                 77.44          4.776574  \n",
       "325                432.64        120.591236  \n",
       "90                 132.25         15.818065  \n",
       "246                 86.49          0.024323  "
      ]
     },
     "execution_count": 95,
     "metadata": {},
     "output_type": "execute_result"
    }
   ],
   "source": [
    "preds.head()"
   ]
  },
  {
   "cell_type": "code",
   "execution_count": 96,
   "id": "49e8d479",
   "metadata": {},
   "outputs": [
    {
     "data": {
      "text/html": [
       "<div>\n",
       "<style scoped>\n",
       "    .dataframe tbody tr th:only-of-type {\n",
       "        vertical-align: middle;\n",
       "    }\n",
       "\n",
       "    .dataframe tbody tr th {\n",
       "        vertical-align: top;\n",
       "    }\n",
       "\n",
       "    .dataframe thead th {\n",
       "        text-align: right;\n",
       "    }\n",
       "</style>\n",
       "<table border=\"1\" class=\"dataframe\">\n",
       "  <thead>\n",
       "    <tr style=\"text-align: right;\">\n",
       "      <th></th>\n",
       "      <th>horsepower</th>\n",
       "      <th>mpg</th>\n",
       "      <th>baseline_preds</th>\n",
       "      <th>yhat</th>\n",
       "      <th>baseline_res</th>\n",
       "      <th>yhat_res</th>\n",
       "      <th>baseline_res_squared</th>\n",
       "      <th>yhat_res_squared</th>\n",
       "      <th>yhat_mean_res</th>\n",
       "    </tr>\n",
       "  </thead>\n",
       "  <tbody>\n",
       "    <tr>\n",
       "      <th>212</th>\n",
       "      <td>180.0</td>\n",
       "      <td>16.5</td>\n",
       "      <td>23.5</td>\n",
       "      <td>11.058302</td>\n",
       "      <td>7.0</td>\n",
       "      <td>-5.441698</td>\n",
       "      <td>49.00</td>\n",
       "      <td>29.612081</td>\n",
       "      <td>-12.441698</td>\n",
       "    </tr>\n",
       "    <tr>\n",
       "      <th>346</th>\n",
       "      <td>67.0</td>\n",
       "      <td>32.3</td>\n",
       "      <td>23.5</td>\n",
       "      <td>30.114463</td>\n",
       "      <td>-8.8</td>\n",
       "      <td>-2.185537</td>\n",
       "      <td>77.44</td>\n",
       "      <td>4.776574</td>\n",
       "      <td>6.614463</td>\n",
       "    </tr>\n",
       "    <tr>\n",
       "      <th>325</th>\n",
       "      <td>48.0</td>\n",
       "      <td>44.3</td>\n",
       "      <td>23.5</td>\n",
       "      <td>33.318596</td>\n",
       "      <td>-20.8</td>\n",
       "      <td>-10.981404</td>\n",
       "      <td>432.64</td>\n",
       "      <td>120.591236</td>\n",
       "      <td>9.818596</td>\n",
       "    </tr>\n",
       "    <tr>\n",
       "      <th>90</th>\n",
       "      <td>198.0</td>\n",
       "      <td>12.0</td>\n",
       "      <td>23.5</td>\n",
       "      <td>8.022807</td>\n",
       "      <td>11.5</td>\n",
       "      <td>-3.977193</td>\n",
       "      <td>132.25</td>\n",
       "      <td>15.818065</td>\n",
       "      <td>-15.477193</td>\n",
       "    </tr>\n",
       "    <tr>\n",
       "      <th>246</th>\n",
       "      <td>52.0</td>\n",
       "      <td>32.8</td>\n",
       "      <td>23.5</td>\n",
       "      <td>32.644042</td>\n",
       "      <td>-9.3</td>\n",
       "      <td>-0.155958</td>\n",
       "      <td>86.49</td>\n",
       "      <td>0.024323</td>\n",
       "      <td>9.144042</td>\n",
       "    </tr>\n",
       "  </tbody>\n",
       "</table>\n",
       "</div>"
      ],
      "text/plain": [
       "     horsepower   mpg  baseline_preds       yhat  baseline_res   yhat_res  \\\n",
       "212       180.0  16.5            23.5  11.058302           7.0  -5.441698   \n",
       "346        67.0  32.3            23.5  30.114463          -8.8  -2.185537   \n",
       "325        48.0  44.3            23.5  33.318596         -20.8 -10.981404   \n",
       "90        198.0  12.0            23.5   8.022807          11.5  -3.977193   \n",
       "246        52.0  32.8            23.5  32.644042          -9.3  -0.155958   \n",
       "\n",
       "     baseline_res_squared  yhat_res_squared  yhat_mean_res  \n",
       "212                 49.00         29.612081     -12.441698  \n",
       "346                 77.44          4.776574       6.614463  \n",
       "325                432.64        120.591236       9.818596  \n",
       "90                 132.25         15.818065     -15.477193  \n",
       "246                 86.49          0.024323       9.144042  "
      ]
     },
     "execution_count": 96,
     "metadata": {},
     "output_type": "execute_result"
    }
   ],
   "source": [
    "preds['yhat_mean_res'] = preds['yhat'] - preds['baseline_preds']\n",
    "preds.head()"
   ]
  },
  {
   "cell_type": "code",
   "execution_count": 97,
   "id": "b1410208",
   "metadata": {},
   "outputs": [
    {
     "data": {
      "text/html": [
       "<div>\n",
       "<style scoped>\n",
       "    .dataframe tbody tr th:only-of-type {\n",
       "        vertical-align: middle;\n",
       "    }\n",
       "\n",
       "    .dataframe tbody tr th {\n",
       "        vertical-align: top;\n",
       "    }\n",
       "\n",
       "    .dataframe thead th {\n",
       "        text-align: right;\n",
       "    }\n",
       "</style>\n",
       "<table border=\"1\" class=\"dataframe\">\n",
       "  <thead>\n",
       "    <tr style=\"text-align: right;\">\n",
       "      <th></th>\n",
       "      <th>horsepower</th>\n",
       "      <th>mpg</th>\n",
       "      <th>baseline_preds</th>\n",
       "      <th>yhat</th>\n",
       "      <th>baseline_res</th>\n",
       "      <th>yhat_res</th>\n",
       "      <th>baseline_res_squared</th>\n",
       "      <th>yhat_res_squared</th>\n",
       "      <th>yhat_mean_res</th>\n",
       "      <th>yhat_mean_res_squared</th>\n",
       "    </tr>\n",
       "  </thead>\n",
       "  <tbody>\n",
       "    <tr>\n",
       "      <th>212</th>\n",
       "      <td>180.0</td>\n",
       "      <td>16.5</td>\n",
       "      <td>23.5</td>\n",
       "      <td>11.058302</td>\n",
       "      <td>7.0</td>\n",
       "      <td>-5.441698</td>\n",
       "      <td>49.00</td>\n",
       "      <td>29.612081</td>\n",
       "      <td>-12.441698</td>\n",
       "      <td>154.795859</td>\n",
       "    </tr>\n",
       "    <tr>\n",
       "      <th>346</th>\n",
       "      <td>67.0</td>\n",
       "      <td>32.3</td>\n",
       "      <td>23.5</td>\n",
       "      <td>30.114463</td>\n",
       "      <td>-8.8</td>\n",
       "      <td>-2.185537</td>\n",
       "      <td>77.44</td>\n",
       "      <td>4.776574</td>\n",
       "      <td>6.614463</td>\n",
       "      <td>43.751116</td>\n",
       "    </tr>\n",
       "    <tr>\n",
       "      <th>325</th>\n",
       "      <td>48.0</td>\n",
       "      <td>44.3</td>\n",
       "      <td>23.5</td>\n",
       "      <td>33.318596</td>\n",
       "      <td>-20.8</td>\n",
       "      <td>-10.981404</td>\n",
       "      <td>432.64</td>\n",
       "      <td>120.591236</td>\n",
       "      <td>9.818596</td>\n",
       "      <td>96.404826</td>\n",
       "    </tr>\n",
       "    <tr>\n",
       "      <th>90</th>\n",
       "      <td>198.0</td>\n",
       "      <td>12.0</td>\n",
       "      <td>23.5</td>\n",
       "      <td>8.022807</td>\n",
       "      <td>11.5</td>\n",
       "      <td>-3.977193</td>\n",
       "      <td>132.25</td>\n",
       "      <td>15.818065</td>\n",
       "      <td>-15.477193</td>\n",
       "      <td>239.543505</td>\n",
       "    </tr>\n",
       "    <tr>\n",
       "      <th>246</th>\n",
       "      <td>52.0</td>\n",
       "      <td>32.8</td>\n",
       "      <td>23.5</td>\n",
       "      <td>32.644042</td>\n",
       "      <td>-9.3</td>\n",
       "      <td>-0.155958</td>\n",
       "      <td>86.49</td>\n",
       "      <td>0.024323</td>\n",
       "      <td>9.144042</td>\n",
       "      <td>83.613496</td>\n",
       "    </tr>\n",
       "  </tbody>\n",
       "</table>\n",
       "</div>"
      ],
      "text/plain": [
       "     horsepower   mpg  baseline_preds       yhat  baseline_res   yhat_res  \\\n",
       "212       180.0  16.5            23.5  11.058302           7.0  -5.441698   \n",
       "346        67.0  32.3            23.5  30.114463          -8.8  -2.185537   \n",
       "325        48.0  44.3            23.5  33.318596         -20.8 -10.981404   \n",
       "90        198.0  12.0            23.5   8.022807          11.5  -3.977193   \n",
       "246        52.0  32.8            23.5  32.644042          -9.3  -0.155958   \n",
       "\n",
       "     baseline_res_squared  yhat_res_squared  yhat_mean_res  \\\n",
       "212                 49.00         29.612081     -12.441698   \n",
       "346                 77.44          4.776574       6.614463   \n",
       "325                432.64        120.591236       9.818596   \n",
       "90                 132.25         15.818065     -15.477193   \n",
       "246                 86.49          0.024323       9.144042   \n",
       "\n",
       "     yhat_mean_res_squared  \n",
       "212             154.795859  \n",
       "346              43.751116  \n",
       "325              96.404826  \n",
       "90              239.543505  \n",
       "246              83.613496  "
      ]
     },
     "execution_count": 97,
     "metadata": {},
     "output_type": "execute_result"
    }
   ],
   "source": [
    "preds['yhat_mean_res_squared'] = preds['yhat_mean_res'] ** 2\n",
    "preds.head()"
   ]
  },
  {
   "cell_type": "code",
   "execution_count": 98,
   "id": "32917efd",
   "metadata": {},
   "outputs": [
    {
     "data": {
      "text/plain": [
       "9975.360722188278"
      ]
     },
     "execution_count": 98,
     "metadata": {},
     "output_type": "execute_result"
    }
   ],
   "source": [
    "ess_baseline = 0\n",
    "ess_yhat = preds['yhat_mean_res_squared'].sum()\n",
    "ess_yhat"
   ]
  },
  {
   "cell_type": "markdown",
   "id": "e45a5ab2",
   "metadata": {},
   "source": [
    "## Compute TSS\n",
    "\n",
    "TSS - Total Sum of Squares\n",
    "\n",
    "ESS + SSE"
   ]
  },
  {
   "cell_type": "code",
   "execution_count": 99,
   "id": "167a90b9",
   "metadata": {},
   "outputs": [],
   "source": [
    "tss_baseline = sse_baseline + ess_baseline"
   ]
  },
  {
   "cell_type": "code",
   "execution_count": 100,
   "id": "773743e8",
   "metadata": {},
   "outputs": [],
   "source": [
    "tss_yhat = sse_yhat + ess_yhat"
   ]
  },
  {
   "cell_type": "markdown",
   "id": "a05e1697",
   "metadata": {},
   "source": [
    "## Putting it all together"
   ]
  },
  {
   "cell_type": "code",
   "execution_count": 101,
   "id": "816e6e0e",
   "metadata": {},
   "outputs": [
    {
     "data": {
      "text/plain": [
       "0.0"
      ]
     },
     "execution_count": 101,
     "metadata": {},
     "output_type": "execute_result"
    }
   ],
   "source": [
    "ess_baseline / tss_baseline"
   ]
  },
  {
   "cell_type": "code",
   "execution_count": 102,
   "id": "082c97f5",
   "metadata": {},
   "outputs": [
    {
     "data": {
      "text/plain": [
       "0.6506732330988134"
      ]
     },
     "execution_count": 102,
     "metadata": {},
     "output_type": "execute_result"
    }
   ],
   "source": [
    "ess_yhat / tss_yhat"
   ]
  },
  {
   "cell_type": "markdown",
   "id": "6fbd3f1e",
   "metadata": {},
   "source": [
    "## Using the sklearn library instead\n",
    "\n",
    "explained_variance_score"
   ]
  },
  {
   "cell_type": "code",
   "execution_count": 103,
   "id": "12322d85",
   "metadata": {},
   "outputs": [
    {
     "data": {
      "text/plain": [
       "0.6506731545601601"
      ]
     },
     "execution_count": 103,
     "metadata": {},
     "output_type": "execute_result"
    }
   ],
   "source": [
    "explained_variance_score(preds['mpg'], preds['yhat'])"
   ]
  },
  {
   "cell_type": "code",
   "execution_count": null,
   "id": "424458cf",
   "metadata": {},
   "outputs": [],
   "source": []
  },
  {
   "cell_type": "markdown",
   "id": "e75926cf",
   "metadata": {},
   "source": [
    "# Exercises"
   ]
  },
  {
   "cell_type": "markdown",
   "id": "b747adde",
   "metadata": {},
   "source": [
    "Do you work for this exercise in either a jupyter notebook named evaluate within your regression-exercises repository. By the end of this exercise you will also create a python script named evaluate, so the overall deliverables for this exercise are the python script and jupyter notebook both with the name evaluate within your regression-exercises repo.\n",
    "\n",
    "- Load your zillow dataset.\n",
    "- Fit a linear regression model (ordinary least squares) and compute yhat, predictions of taxvaluedollarcnt using only calculatedfinishedsqft."
   ]
  },
  {
   "cell_type": "code",
   "execution_count": 104,
   "id": "0388fe72",
   "metadata": {},
   "outputs": [],
   "source": [
    "from wrangle import wrangle_zillow\n",
    "from prepare import remove_outliers"
   ]
  },
  {
   "cell_type": "code",
   "execution_count": 144,
   "id": "16dacc9b",
   "metadata": {},
   "outputs": [],
   "source": [
    "df = wrangle_zillow()"
   ]
  },
  {
   "cell_type": "code",
   "execution_count": 145,
   "id": "095c7f30",
   "metadata": {},
   "outputs": [
    {
     "name": "stdout",
     "output_type": "stream",
     "text": [
      "fips column ignored\n"
     ]
    },
    {
     "data": {
      "text/html": [
       "<div>\n",
       "<style scoped>\n",
       "    .dataframe tbody tr th:only-of-type {\n",
       "        vertical-align: middle;\n",
       "    }\n",
       "\n",
       "    .dataframe tbody tr th {\n",
       "        vertical-align: top;\n",
       "    }\n",
       "\n",
       "    .dataframe thead th {\n",
       "        text-align: right;\n",
       "    }\n",
       "</style>\n",
       "<table border=\"1\" class=\"dataframe\">\n",
       "  <thead>\n",
       "    <tr style=\"text-align: right;\">\n",
       "      <th></th>\n",
       "      <th>bed</th>\n",
       "      <th>bath</th>\n",
       "      <th>sqft</th>\n",
       "      <th>tax_value</th>\n",
       "      <th>year</th>\n",
       "      <th>taxamount</th>\n",
       "      <th>fips</th>\n",
       "    </tr>\n",
       "  </thead>\n",
       "  <tbody>\n",
       "    <tr>\n",
       "      <th>4</th>\n",
       "      <td>4.0</td>\n",
       "      <td>2.0</td>\n",
       "      <td>3633.0</td>\n",
       "      <td>296425.0</td>\n",
       "      <td>2005.0</td>\n",
       "      <td>6941.39</td>\n",
       "      <td>6037.0</td>\n",
       "    </tr>\n",
       "    <tr>\n",
       "      <th>6</th>\n",
       "      <td>3.0</td>\n",
       "      <td>4.0</td>\n",
       "      <td>1620.0</td>\n",
       "      <td>847770.0</td>\n",
       "      <td>2011.0</td>\n",
       "      <td>10244.94</td>\n",
       "      <td>6037.0</td>\n",
       "    </tr>\n",
       "    <tr>\n",
       "      <th>7</th>\n",
       "      <td>3.0</td>\n",
       "      <td>2.0</td>\n",
       "      <td>2077.0</td>\n",
       "      <td>646760.0</td>\n",
       "      <td>1926.0</td>\n",
       "      <td>7924.68</td>\n",
       "      <td>6037.0</td>\n",
       "    </tr>\n",
       "    <tr>\n",
       "      <th>18</th>\n",
       "      <td>3.0</td>\n",
       "      <td>1.0</td>\n",
       "      <td>1244.0</td>\n",
       "      <td>169471.0</td>\n",
       "      <td>1950.0</td>\n",
       "      <td>2532.88</td>\n",
       "      <td>6037.0</td>\n",
       "    </tr>\n",
       "    <tr>\n",
       "      <th>19</th>\n",
       "      <td>3.0</td>\n",
       "      <td>2.0</td>\n",
       "      <td>1300.0</td>\n",
       "      <td>233266.0</td>\n",
       "      <td>1950.0</td>\n",
       "      <td>3110.99</td>\n",
       "      <td>6037.0</td>\n",
       "    </tr>\n",
       "  </tbody>\n",
       "</table>\n",
       "</div>"
      ],
      "text/plain": [
       "    bed  bath    sqft  tax_value    year  taxamount    fips\n",
       "4   4.0   2.0  3633.0   296425.0  2005.0    6941.39  6037.0\n",
       "6   3.0   4.0  1620.0   847770.0  2011.0   10244.94  6037.0\n",
       "7   3.0   2.0  2077.0   646760.0  1926.0    7924.68  6037.0\n",
       "18  3.0   1.0  1244.0   169471.0  1950.0    2532.88  6037.0\n",
       "19  3.0   2.0  1300.0   233266.0  1950.0    3110.99  6037.0"
      ]
     },
     "execution_count": 145,
     "metadata": {},
     "output_type": "execute_result"
    }
   ],
   "source": [
    "df, var_fences = remove_outliers(df)\n",
    "df.head()"
   ]
  },
  {
   "cell_type": "code",
   "execution_count": 146,
   "id": "aac12b3d",
   "metadata": {},
   "outputs": [
    {
     "data": {
      "text/plain": [
       "((1128033, 7), (376011, 7), (376011, 7))"
      ]
     },
     "execution_count": 146,
     "metadata": {},
     "output_type": "execute_result"
    }
   ],
   "source": [
    "train, val, test = train_val_test(df)\n",
    "train.shape, val.shape, test.shape"
   ]
  },
  {
   "cell_type": "code",
   "execution_count": 147,
   "id": "28cbe4ae",
   "metadata": {},
   "outputs": [
    {
     "data": {
      "text/html": [
       "<div>\n",
       "<style scoped>\n",
       "    .dataframe tbody tr th:only-of-type {\n",
       "        vertical-align: middle;\n",
       "    }\n",
       "\n",
       "    .dataframe tbody tr th {\n",
       "        vertical-align: top;\n",
       "    }\n",
       "\n",
       "    .dataframe thead th {\n",
       "        text-align: right;\n",
       "    }\n",
       "</style>\n",
       "<table border=\"1\" class=\"dataframe\">\n",
       "  <thead>\n",
       "    <tr style=\"text-align: right;\">\n",
       "      <th></th>\n",
       "      <th>sqft</th>\n",
       "      <th>tax_value</th>\n",
       "    </tr>\n",
       "  </thead>\n",
       "  <tbody>\n",
       "    <tr>\n",
       "      <th>756336</th>\n",
       "      <td>1592.0</td>\n",
       "      <td>346902.0</td>\n",
       "    </tr>\n",
       "    <tr>\n",
       "      <th>1095910</th>\n",
       "      <td>1588.0</td>\n",
       "      <td>354034.0</td>\n",
       "    </tr>\n",
       "    <tr>\n",
       "      <th>106772</th>\n",
       "      <td>1642.0</td>\n",
       "      <td>650127.0</td>\n",
       "    </tr>\n",
       "    <tr>\n",
       "      <th>1196814</th>\n",
       "      <td>1237.0</td>\n",
       "      <td>216472.0</td>\n",
       "    </tr>\n",
       "    <tr>\n",
       "      <th>1671272</th>\n",
       "      <td>1158.0</td>\n",
       "      <td>267315.0</td>\n",
       "    </tr>\n",
       "  </tbody>\n",
       "</table>\n",
       "</div>"
      ],
      "text/plain": [
       "           sqft  tax_value\n",
       "756336   1592.0   346902.0\n",
       "1095910  1588.0   354034.0\n",
       "106772   1642.0   650127.0\n",
       "1196814  1237.0   216472.0\n",
       "1671272  1158.0   267315.0"
      ]
     },
     "execution_count": 147,
     "metadata": {},
     "output_type": "execute_result"
    }
   ],
   "source": [
    "preds = train[['sqft', 'tax_value']]\n",
    "preds.head()"
   ]
  },
  {
   "cell_type": "code",
   "execution_count": 109,
   "id": "e897a34d",
   "metadata": {},
   "outputs": [
    {
     "data": {
      "text/html": [
       "<div>\n",
       "<style scoped>\n",
       "    .dataframe tbody tr th:only-of-type {\n",
       "        vertical-align: middle;\n",
       "    }\n",
       "\n",
       "    .dataframe tbody tr th {\n",
       "        vertical-align: top;\n",
       "    }\n",
       "\n",
       "    .dataframe thead th {\n",
       "        text-align: right;\n",
       "    }\n",
       "</style>\n",
       "<table border=\"1\" class=\"dataframe\">\n",
       "  <thead>\n",
       "    <tr style=\"text-align: right;\">\n",
       "      <th></th>\n",
       "      <th>sqft</th>\n",
       "      <th>tax_value</th>\n",
       "      <th>baseline_preds</th>\n",
       "    </tr>\n",
       "  </thead>\n",
       "  <tbody>\n",
       "    <tr>\n",
       "      <th>756336</th>\n",
       "      <td>1592.0</td>\n",
       "      <td>346902.0</td>\n",
       "      <td>343398.91</td>\n",
       "    </tr>\n",
       "    <tr>\n",
       "      <th>1095910</th>\n",
       "      <td>1588.0</td>\n",
       "      <td>354034.0</td>\n",
       "      <td>343398.91</td>\n",
       "    </tr>\n",
       "    <tr>\n",
       "      <th>106772</th>\n",
       "      <td>1642.0</td>\n",
       "      <td>650127.0</td>\n",
       "      <td>343398.91</td>\n",
       "    </tr>\n",
       "    <tr>\n",
       "      <th>1196814</th>\n",
       "      <td>1237.0</td>\n",
       "      <td>216472.0</td>\n",
       "      <td>343398.91</td>\n",
       "    </tr>\n",
       "    <tr>\n",
       "      <th>1671272</th>\n",
       "      <td>1158.0</td>\n",
       "      <td>267315.0</td>\n",
       "      <td>343398.91</td>\n",
       "    </tr>\n",
       "  </tbody>\n",
       "</table>\n",
       "</div>"
      ],
      "text/plain": [
       "           sqft  tax_value  baseline_preds\n",
       "756336   1592.0   346902.0       343398.91\n",
       "1095910  1588.0   354034.0       343398.91\n",
       "106772   1642.0   650127.0       343398.91\n",
       "1196814  1237.0   216472.0       343398.91\n",
       "1671272  1158.0   267315.0       343398.91"
      ]
     },
     "execution_count": 109,
     "metadata": {},
     "output_type": "execute_result"
    }
   ],
   "source": [
    "preds['baseline_preds'] = round(train['tax_value'].mean(), 2)\n",
    "preds.head()"
   ]
  },
  {
   "cell_type": "code",
   "execution_count": 110,
   "id": "d63ef769",
   "metadata": {},
   "outputs": [],
   "source": [
    "model = LinearRegression().fit(train[['sqft']], train[['tax_value']])\n",
    "preds['yhat']= model.predict(train[['sqft']])"
   ]
  },
  {
   "cell_type": "code",
   "execution_count": 111,
   "id": "1178d2c7",
   "metadata": {},
   "outputs": [
    {
     "data": {
      "text/html": [
       "<div>\n",
       "<style scoped>\n",
       "    .dataframe tbody tr th:only-of-type {\n",
       "        vertical-align: middle;\n",
       "    }\n",
       "\n",
       "    .dataframe tbody tr th {\n",
       "        vertical-align: top;\n",
       "    }\n",
       "\n",
       "    .dataframe thead th {\n",
       "        text-align: right;\n",
       "    }\n",
       "</style>\n",
       "<table border=\"1\" class=\"dataframe\">\n",
       "  <thead>\n",
       "    <tr style=\"text-align: right;\">\n",
       "      <th></th>\n",
       "      <th>sqft</th>\n",
       "      <th>tax_value</th>\n",
       "      <th>baseline_preds</th>\n",
       "      <th>yhat</th>\n",
       "    </tr>\n",
       "  </thead>\n",
       "  <tbody>\n",
       "    <tr>\n",
       "      <th>756336</th>\n",
       "      <td>1592.0</td>\n",
       "      <td>346902.0</td>\n",
       "      <td>343398.91</td>\n",
       "      <td>327979.602974</td>\n",
       "    </tr>\n",
       "    <tr>\n",
       "      <th>1095910</th>\n",
       "      <td>1588.0</td>\n",
       "      <td>354034.0</td>\n",
       "      <td>343398.91</td>\n",
       "      <td>327318.403305</td>\n",
       "    </tr>\n",
       "    <tr>\n",
       "      <th>106772</th>\n",
       "      <td>1642.0</td>\n",
       "      <td>650127.0</td>\n",
       "      <td>343398.91</td>\n",
       "      <td>336244.598828</td>\n",
       "    </tr>\n",
       "    <tr>\n",
       "      <th>1196814</th>\n",
       "      <td>1237.0</td>\n",
       "      <td>216472.0</td>\n",
       "      <td>343398.91</td>\n",
       "      <td>269298.132411</td>\n",
       "    </tr>\n",
       "    <tr>\n",
       "      <th>1671272</th>\n",
       "      <td>1158.0</td>\n",
       "      <td>267315.0</td>\n",
       "      <td>343398.91</td>\n",
       "      <td>256239.438961</td>\n",
       "    </tr>\n",
       "  </tbody>\n",
       "</table>\n",
       "</div>"
      ],
      "text/plain": [
       "           sqft  tax_value  baseline_preds           yhat\n",
       "756336   1592.0   346902.0       343398.91  327979.602974\n",
       "1095910  1588.0   354034.0       343398.91  327318.403305\n",
       "106772   1642.0   650127.0       343398.91  336244.598828\n",
       "1196814  1237.0   216472.0       343398.91  269298.132411\n",
       "1671272  1158.0   267315.0       343398.91  256239.438961"
      ]
     },
     "execution_count": 111,
     "metadata": {},
     "output_type": "execute_result"
    }
   ],
   "source": [
    "preds.head()"
   ]
  },
  {
   "cell_type": "code",
   "execution_count": 112,
   "id": "44e7834c",
   "metadata": {},
   "outputs": [
    {
     "data": {
      "text/html": [
       "<div>\n",
       "<style scoped>\n",
       "    .dataframe tbody tr th:only-of-type {\n",
       "        vertical-align: middle;\n",
       "    }\n",
       "\n",
       "    .dataframe tbody tr th {\n",
       "        vertical-align: top;\n",
       "    }\n",
       "\n",
       "    .dataframe thead th {\n",
       "        text-align: right;\n",
       "    }\n",
       "</style>\n",
       "<table border=\"1\" class=\"dataframe\">\n",
       "  <thead>\n",
       "    <tr style=\"text-align: right;\">\n",
       "      <th></th>\n",
       "      <th>sqft</th>\n",
       "      <th>tax_value</th>\n",
       "      <th>baseline_preds</th>\n",
       "      <th>yhat</th>\n",
       "      <th>baseline_res</th>\n",
       "    </tr>\n",
       "  </thead>\n",
       "  <tbody>\n",
       "    <tr>\n",
       "      <th>756336</th>\n",
       "      <td>1592.0</td>\n",
       "      <td>346902.0</td>\n",
       "      <td>343398.91</td>\n",
       "      <td>327979.602974</td>\n",
       "      <td>-3503.09</td>\n",
       "    </tr>\n",
       "    <tr>\n",
       "      <th>1095910</th>\n",
       "      <td>1588.0</td>\n",
       "      <td>354034.0</td>\n",
       "      <td>343398.91</td>\n",
       "      <td>327318.403305</td>\n",
       "      <td>-10635.09</td>\n",
       "    </tr>\n",
       "    <tr>\n",
       "      <th>106772</th>\n",
       "      <td>1642.0</td>\n",
       "      <td>650127.0</td>\n",
       "      <td>343398.91</td>\n",
       "      <td>336244.598828</td>\n",
       "      <td>-306728.09</td>\n",
       "    </tr>\n",
       "    <tr>\n",
       "      <th>1196814</th>\n",
       "      <td>1237.0</td>\n",
       "      <td>216472.0</td>\n",
       "      <td>343398.91</td>\n",
       "      <td>269298.132411</td>\n",
       "      <td>126926.91</td>\n",
       "    </tr>\n",
       "    <tr>\n",
       "      <th>1671272</th>\n",
       "      <td>1158.0</td>\n",
       "      <td>267315.0</td>\n",
       "      <td>343398.91</td>\n",
       "      <td>256239.438961</td>\n",
       "      <td>76083.91</td>\n",
       "    </tr>\n",
       "  </tbody>\n",
       "</table>\n",
       "</div>"
      ],
      "text/plain": [
       "           sqft  tax_value  baseline_preds           yhat  baseline_res\n",
       "756336   1592.0   346902.0       343398.91  327979.602974      -3503.09\n",
       "1095910  1588.0   354034.0       343398.91  327318.403305     -10635.09\n",
       "106772   1642.0   650127.0       343398.91  336244.598828    -306728.09\n",
       "1196814  1237.0   216472.0       343398.91  269298.132411     126926.91\n",
       "1671272  1158.0   267315.0       343398.91  256239.438961      76083.91"
      ]
     },
     "execution_count": 112,
     "metadata": {},
     "output_type": "execute_result"
    }
   ],
   "source": [
    "preds['baseline_res'] = preds['baseline_preds'] - preds['tax_value']\n",
    "preds.head()"
   ]
  },
  {
   "cell_type": "code",
   "execution_count": 113,
   "id": "0ffe44b5",
   "metadata": {},
   "outputs": [
    {
     "data": {
      "text/html": [
       "<div>\n",
       "<style scoped>\n",
       "    .dataframe tbody tr th:only-of-type {\n",
       "        vertical-align: middle;\n",
       "    }\n",
       "\n",
       "    .dataframe tbody tr th {\n",
       "        vertical-align: top;\n",
       "    }\n",
       "\n",
       "    .dataframe thead th {\n",
       "        text-align: right;\n",
       "    }\n",
       "</style>\n",
       "<table border=\"1\" class=\"dataframe\">\n",
       "  <thead>\n",
       "    <tr style=\"text-align: right;\">\n",
       "      <th></th>\n",
       "      <th>sqft</th>\n",
       "      <th>tax_value</th>\n",
       "      <th>baseline_preds</th>\n",
       "      <th>yhat</th>\n",
       "      <th>baseline_res</th>\n",
       "      <th>yhat_res</th>\n",
       "    </tr>\n",
       "  </thead>\n",
       "  <tbody>\n",
       "    <tr>\n",
       "      <th>756336</th>\n",
       "      <td>1592.0</td>\n",
       "      <td>346902.0</td>\n",
       "      <td>343398.91</td>\n",
       "      <td>327979.602974</td>\n",
       "      <td>-3503.09</td>\n",
       "      <td>-18922.397026</td>\n",
       "    </tr>\n",
       "    <tr>\n",
       "      <th>1095910</th>\n",
       "      <td>1588.0</td>\n",
       "      <td>354034.0</td>\n",
       "      <td>343398.91</td>\n",
       "      <td>327318.403305</td>\n",
       "      <td>-10635.09</td>\n",
       "      <td>-26715.596695</td>\n",
       "    </tr>\n",
       "    <tr>\n",
       "      <th>106772</th>\n",
       "      <td>1642.0</td>\n",
       "      <td>650127.0</td>\n",
       "      <td>343398.91</td>\n",
       "      <td>336244.598828</td>\n",
       "      <td>-306728.09</td>\n",
       "      <td>-313882.401172</td>\n",
       "    </tr>\n",
       "    <tr>\n",
       "      <th>1196814</th>\n",
       "      <td>1237.0</td>\n",
       "      <td>216472.0</td>\n",
       "      <td>343398.91</td>\n",
       "      <td>269298.132411</td>\n",
       "      <td>126926.91</td>\n",
       "      <td>52826.132411</td>\n",
       "    </tr>\n",
       "    <tr>\n",
       "      <th>1671272</th>\n",
       "      <td>1158.0</td>\n",
       "      <td>267315.0</td>\n",
       "      <td>343398.91</td>\n",
       "      <td>256239.438961</td>\n",
       "      <td>76083.91</td>\n",
       "      <td>-11075.561039</td>\n",
       "    </tr>\n",
       "  </tbody>\n",
       "</table>\n",
       "</div>"
      ],
      "text/plain": [
       "           sqft  tax_value  baseline_preds           yhat  baseline_res  \\\n",
       "756336   1592.0   346902.0       343398.91  327979.602974      -3503.09   \n",
       "1095910  1588.0   354034.0       343398.91  327318.403305     -10635.09   \n",
       "106772   1642.0   650127.0       343398.91  336244.598828    -306728.09   \n",
       "1196814  1237.0   216472.0       343398.91  269298.132411     126926.91   \n",
       "1671272  1158.0   267315.0       343398.91  256239.438961      76083.91   \n",
       "\n",
       "              yhat_res  \n",
       "756336   -18922.397026  \n",
       "1095910  -26715.596695  \n",
       "106772  -313882.401172  \n",
       "1196814   52826.132411  \n",
       "1671272  -11075.561039  "
      ]
     },
     "execution_count": 113,
     "metadata": {},
     "output_type": "execute_result"
    }
   ],
   "source": [
    "preds['yhat_res'] = preds['yhat'] - preds['tax_value']\n",
    "preds.head()"
   ]
  },
  {
   "cell_type": "markdown",
   "id": "ac858e99",
   "metadata": {},
   "source": [
    "## Plot the residuals for the linear regression model that you made.\n"
   ]
  },
  {
   "cell_type": "code",
   "execution_count": 114,
   "id": "6729bf5f",
   "metadata": {},
   "outputs": [
    {
     "data": {
      "image/png": "[encoded data removed]",
      "text/plain": [
       "<Figure size 640x480 with 1 Axes>"
      ]
     },
     "metadata": {},
     "output_type": "display_data"
    }
   ],
   "source": [
    "plt.scatter(x='sqft', y='baseline_res', data=preds.sample(2000))\n",
    "plt.xlabel('Square Feet')\n",
    "plt.ylabel('Baseline Residual')\n",
    "plt.show()"
   ]
  },
  {
   "cell_type": "code",
   "execution_count": 115,
   "id": "e299ce47",
   "metadata": {},
   "outputs": [
    {
     "data": {
      "image/png": "[encoded data removed]",
      "text/plain": [
       "<Figure size 640x480 with 1 Axes>"
      ]
     },
     "metadata": {},
     "output_type": "display_data"
    }
   ],
   "source": [
    "plt.scatter(x='sqft', y='yhat_res', data=preds.sample(2000))\n",
    "plt.xlabel('Square Feet')\n",
    "plt.ylabel('Prediction Residual')\n",
    "plt.show()"
   ]
  },
  {
   "cell_type": "markdown",
   "id": "3d73a1bb",
   "metadata": {},
   "source": [
    "## Calculate the sum of squared errors, explained sum of squares, total sum of squares, mean squared error, and root mean squared error for your model.  \n",
    "## Calculate the sum of squared errors, mean squared error, and root mean squared error for the baseline model (i.e. a model that always predicts the average taxvaluedollarcnt amount)."
   ]
  },
  {
   "cell_type": "code",
   "execution_count": 116,
   "id": "00f14db1",
   "metadata": {},
   "outputs": [
    {
     "data": {
      "text/html": [
       "<div>\n",
       "<style scoped>\n",
       "    .dataframe tbody tr th:only-of-type {\n",
       "        vertical-align: middle;\n",
       "    }\n",
       "\n",
       "    .dataframe tbody tr th {\n",
       "        vertical-align: top;\n",
       "    }\n",
       "\n",
       "    .dataframe thead th {\n",
       "        text-align: right;\n",
       "    }\n",
       "</style>\n",
       "<table border=\"1\" class=\"dataframe\">\n",
       "  <thead>\n",
       "    <tr style=\"text-align: right;\">\n",
       "      <th></th>\n",
       "      <th>sqft</th>\n",
       "      <th>tax_value</th>\n",
       "      <th>baseline_preds</th>\n",
       "      <th>yhat</th>\n",
       "      <th>baseline_res</th>\n",
       "      <th>yhat_res</th>\n",
       "      <th>baseline_res_squared</th>\n",
       "      <th>yhat_res_squared</th>\n",
       "    </tr>\n",
       "  </thead>\n",
       "  <tbody>\n",
       "    <tr>\n",
       "      <th>756336</th>\n",
       "      <td>1592.0</td>\n",
       "      <td>346902.0</td>\n",
       "      <td>343398.91</td>\n",
       "      <td>327979.602974</td>\n",
       "      <td>-3503.09</td>\n",
       "      <td>-18922.397026</td>\n",
       "      <td>1.227164e+07</td>\n",
       "      <td>3.580571e+08</td>\n",
       "    </tr>\n",
       "    <tr>\n",
       "      <th>1095910</th>\n",
       "      <td>1588.0</td>\n",
       "      <td>354034.0</td>\n",
       "      <td>343398.91</td>\n",
       "      <td>327318.403305</td>\n",
       "      <td>-10635.09</td>\n",
       "      <td>-26715.596695</td>\n",
       "      <td>1.131051e+08</td>\n",
       "      <td>7.137231e+08</td>\n",
       "    </tr>\n",
       "    <tr>\n",
       "      <th>106772</th>\n",
       "      <td>1642.0</td>\n",
       "      <td>650127.0</td>\n",
       "      <td>343398.91</td>\n",
       "      <td>336244.598828</td>\n",
       "      <td>-306728.09</td>\n",
       "      <td>-313882.401172</td>\n",
       "      <td>9.408212e+10</td>\n",
       "      <td>9.852216e+10</td>\n",
       "    </tr>\n",
       "    <tr>\n",
       "      <th>1196814</th>\n",
       "      <td>1237.0</td>\n",
       "      <td>216472.0</td>\n",
       "      <td>343398.91</td>\n",
       "      <td>269298.132411</td>\n",
       "      <td>126926.91</td>\n",
       "      <td>52826.132411</td>\n",
       "      <td>1.611044e+10</td>\n",
       "      <td>2.790600e+09</td>\n",
       "    </tr>\n",
       "    <tr>\n",
       "      <th>1671272</th>\n",
       "      <td>1158.0</td>\n",
       "      <td>267315.0</td>\n",
       "      <td>343398.91</td>\n",
       "      <td>256239.438961</td>\n",
       "      <td>76083.91</td>\n",
       "      <td>-11075.561039</td>\n",
       "      <td>5.788761e+09</td>\n",
       "      <td>1.226681e+08</td>\n",
       "    </tr>\n",
       "  </tbody>\n",
       "</table>\n",
       "</div>"
      ],
      "text/plain": [
       "           sqft  tax_value  baseline_preds           yhat  baseline_res  \\\n",
       "756336   1592.0   346902.0       343398.91  327979.602974      -3503.09   \n",
       "1095910  1588.0   354034.0       343398.91  327318.403305     -10635.09   \n",
       "106772   1642.0   650127.0       343398.91  336244.598828    -306728.09   \n",
       "1196814  1237.0   216472.0       343398.91  269298.132411     126926.91   \n",
       "1671272  1158.0   267315.0       343398.91  256239.438961      76083.91   \n",
       "\n",
       "              yhat_res  baseline_res_squared  yhat_res_squared  \n",
       "756336   -18922.397026          1.227164e+07      3.580571e+08  \n",
       "1095910  -26715.596695          1.131051e+08      7.137231e+08  \n",
       "106772  -313882.401172          9.408212e+10      9.852216e+10  \n",
       "1196814   52826.132411          1.611044e+10      2.790600e+09  \n",
       "1671272  -11075.561039          5.788761e+09      1.226681e+08  "
      ]
     },
     "execution_count": 116,
     "metadata": {},
     "output_type": "execute_result"
    }
   ],
   "source": [
    "preds['baseline_res_squared'] = preds['baseline_res'] ** 2\n",
    "preds['yhat_res_squared'] = preds['yhat_res'] ** 2\n",
    "preds.head()"
   ]
  },
  {
   "cell_type": "code",
   "execution_count": 117,
   "id": "77afba1f",
   "metadata": {},
   "outputs": [
    {
     "data": {
      "text/plain": [
       "(5.2468605437470056e+16, 4.154078904837569e+16)"
      ]
     },
     "execution_count": 117,
     "metadata": {},
     "output_type": "execute_result"
    }
   ],
   "source": [
    "sse_baseline = preds['baseline_res_squared'].sum()\n",
    "sse_yhat = preds['yhat_res_squared'].sum()\n",
    "sse_baseline, sse_yhat"
   ]
  },
  {
   "cell_type": "code",
   "execution_count": 118,
   "id": "c6e4fcf3",
   "metadata": {},
   "outputs": [
    {
     "data": {
      "text/plain": [
       "(46513360369.30662, 36825863293.33955)"
      ]
     },
     "execution_count": 118,
     "metadata": {},
     "output_type": "execute_result"
    }
   ],
   "source": [
    "mse_baseline = sse_baseline/len(preds)\n",
    "mse_yhat = sse_yhat/len(preds)\n",
    "\n",
    "mse_baseline, mse_yhat"
   ]
  },
  {
   "cell_type": "code",
   "execution_count": 119,
   "id": "c432745b",
   "metadata": {},
   "outputs": [
    {
     "data": {
      "text/plain": [
       "(215669.56291815176, 191900.65996066702)"
      ]
     },
     "execution_count": 119,
     "metadata": {},
     "output_type": "execute_result"
    }
   ],
   "source": [
    "rmse_baseline = sqrt(mse_baseline)\n",
    "rmse_yhat = sqrt(mse_yhat)\n",
    "\n",
    "rmse_baseline, rmse_yhat"
   ]
  },
  {
   "cell_type": "code",
   "execution_count": null,
   "id": "7bf0275d",
   "metadata": {},
   "outputs": [],
   "source": []
  },
  {
   "cell_type": "markdown",
   "id": "1744b557",
   "metadata": {},
   "source": [
    "## Write python code that compares the sum of squared errors for your model against the sum of squared errors for the baseline model and outputs whether or not your model performs better than the baseline model.\n"
   ]
  },
  {
   "cell_type": "code",
   "execution_count": 120,
   "id": "7a544e1c",
   "metadata": {},
   "outputs": [
    {
     "data": {
      "text/html": [
       "<div>\n",
       "<style scoped>\n",
       "    .dataframe tbody tr th:only-of-type {\n",
       "        vertical-align: middle;\n",
       "    }\n",
       "\n",
       "    .dataframe tbody tr th {\n",
       "        vertical-align: top;\n",
       "    }\n",
       "\n",
       "    .dataframe thead th {\n",
       "        text-align: right;\n",
       "    }\n",
       "</style>\n",
       "<table border=\"1\" class=\"dataframe\">\n",
       "  <thead>\n",
       "    <tr style=\"text-align: right;\">\n",
       "      <th></th>\n",
       "      <th>sqft</th>\n",
       "      <th>tax_value</th>\n",
       "      <th>baseline_preds</th>\n",
       "      <th>yhat</th>\n",
       "      <th>baseline_res</th>\n",
       "      <th>yhat_res</th>\n",
       "      <th>baseline_res_squared</th>\n",
       "      <th>yhat_res_squared</th>\n",
       "      <th>yhat_mean_res</th>\n",
       "    </tr>\n",
       "  </thead>\n",
       "  <tbody>\n",
       "    <tr>\n",
       "      <th>756336</th>\n",
       "      <td>1592.0</td>\n",
       "      <td>346902.0</td>\n",
       "      <td>343398.91</td>\n",
       "      <td>327979.602974</td>\n",
       "      <td>-3503.09</td>\n",
       "      <td>-18922.397026</td>\n",
       "      <td>1.227164e+07</td>\n",
       "      <td>3.580571e+08</td>\n",
       "      <td>-15419.307026</td>\n",
       "    </tr>\n",
       "    <tr>\n",
       "      <th>1095910</th>\n",
       "      <td>1588.0</td>\n",
       "      <td>354034.0</td>\n",
       "      <td>343398.91</td>\n",
       "      <td>327318.403305</td>\n",
       "      <td>-10635.09</td>\n",
       "      <td>-26715.596695</td>\n",
       "      <td>1.131051e+08</td>\n",
       "      <td>7.137231e+08</td>\n",
       "      <td>-16080.506695</td>\n",
       "    </tr>\n",
       "    <tr>\n",
       "      <th>106772</th>\n",
       "      <td>1642.0</td>\n",
       "      <td>650127.0</td>\n",
       "      <td>343398.91</td>\n",
       "      <td>336244.598828</td>\n",
       "      <td>-306728.09</td>\n",
       "      <td>-313882.401172</td>\n",
       "      <td>9.408212e+10</td>\n",
       "      <td>9.852216e+10</td>\n",
       "      <td>-7154.311172</td>\n",
       "    </tr>\n",
       "    <tr>\n",
       "      <th>1196814</th>\n",
       "      <td>1237.0</td>\n",
       "      <td>216472.0</td>\n",
       "      <td>343398.91</td>\n",
       "      <td>269298.132411</td>\n",
       "      <td>126926.91</td>\n",
       "      <td>52826.132411</td>\n",
       "      <td>1.611044e+10</td>\n",
       "      <td>2.790600e+09</td>\n",
       "      <td>-74100.777589</td>\n",
       "    </tr>\n",
       "    <tr>\n",
       "      <th>1671272</th>\n",
       "      <td>1158.0</td>\n",
       "      <td>267315.0</td>\n",
       "      <td>343398.91</td>\n",
       "      <td>256239.438961</td>\n",
       "      <td>76083.91</td>\n",
       "      <td>-11075.561039</td>\n",
       "      <td>5.788761e+09</td>\n",
       "      <td>1.226681e+08</td>\n",
       "      <td>-87159.471039</td>\n",
       "    </tr>\n",
       "  </tbody>\n",
       "</table>\n",
       "</div>"
      ],
      "text/plain": [
       "           sqft  tax_value  baseline_preds           yhat  baseline_res  \\\n",
       "756336   1592.0   346902.0       343398.91  327979.602974      -3503.09   \n",
       "1095910  1588.0   354034.0       343398.91  327318.403305     -10635.09   \n",
       "106772   1642.0   650127.0       343398.91  336244.598828    -306728.09   \n",
       "1196814  1237.0   216472.0       343398.91  269298.132411     126926.91   \n",
       "1671272  1158.0   267315.0       343398.91  256239.438961      76083.91   \n",
       "\n",
       "              yhat_res  baseline_res_squared  yhat_res_squared  yhat_mean_res  \n",
       "756336   -18922.397026          1.227164e+07      3.580571e+08  -15419.307026  \n",
       "1095910  -26715.596695          1.131051e+08      7.137231e+08  -16080.506695  \n",
       "106772  -313882.401172          9.408212e+10      9.852216e+10   -7154.311172  \n",
       "1196814   52826.132411          1.611044e+10      2.790600e+09  -74100.777589  \n",
       "1671272  -11075.561039          5.788761e+09      1.226681e+08  -87159.471039  "
      ]
     },
     "execution_count": 120,
     "metadata": {},
     "output_type": "execute_result"
    }
   ],
   "source": [
    "preds['yhat_mean_res'] = preds['yhat'] - preds['baseline_preds']\n",
    "preds.head()"
   ]
  },
  {
   "cell_type": "code",
   "execution_count": 121,
   "id": "fb05aff1",
   "metadata": {},
   "outputs": [
    {
     "data": {
      "text/html": [
       "<div>\n",
       "<style scoped>\n",
       "    .dataframe tbody tr th:only-of-type {\n",
       "        vertical-align: middle;\n",
       "    }\n",
       "\n",
       "    .dataframe tbody tr th {\n",
       "        vertical-align: top;\n",
       "    }\n",
       "\n",
       "    .dataframe thead th {\n",
       "        text-align: right;\n",
       "    }\n",
       "</style>\n",
       "<table border=\"1\" class=\"dataframe\">\n",
       "  <thead>\n",
       "    <tr style=\"text-align: right;\">\n",
       "      <th></th>\n",
       "      <th>sqft</th>\n",
       "      <th>tax_value</th>\n",
       "      <th>baseline_preds</th>\n",
       "      <th>yhat</th>\n",
       "      <th>baseline_res</th>\n",
       "      <th>yhat_res</th>\n",
       "      <th>baseline_res_squared</th>\n",
       "      <th>yhat_res_squared</th>\n",
       "      <th>yhat_mean_res</th>\n",
       "      <th>yhat_mean_res_squared</th>\n",
       "    </tr>\n",
       "  </thead>\n",
       "  <tbody>\n",
       "    <tr>\n",
       "      <th>756336</th>\n",
       "      <td>1592.0</td>\n",
       "      <td>346902.0</td>\n",
       "      <td>343398.91</td>\n",
       "      <td>327979.602974</td>\n",
       "      <td>-3503.09</td>\n",
       "      <td>-18922.397026</td>\n",
       "      <td>1.227164e+07</td>\n",
       "      <td>3.580571e+08</td>\n",
       "      <td>-15419.307026</td>\n",
       "      <td>2.377550e+08</td>\n",
       "    </tr>\n",
       "    <tr>\n",
       "      <th>1095910</th>\n",
       "      <td>1588.0</td>\n",
       "      <td>354034.0</td>\n",
       "      <td>343398.91</td>\n",
       "      <td>327318.403305</td>\n",
       "      <td>-10635.09</td>\n",
       "      <td>-26715.596695</td>\n",
       "      <td>1.131051e+08</td>\n",
       "      <td>7.137231e+08</td>\n",
       "      <td>-16080.506695</td>\n",
       "      <td>2.585827e+08</td>\n",
       "    </tr>\n",
       "    <tr>\n",
       "      <th>106772</th>\n",
       "      <td>1642.0</td>\n",
       "      <td>650127.0</td>\n",
       "      <td>343398.91</td>\n",
       "      <td>336244.598828</td>\n",
       "      <td>-306728.09</td>\n",
       "      <td>-313882.401172</td>\n",
       "      <td>9.408212e+10</td>\n",
       "      <td>9.852216e+10</td>\n",
       "      <td>-7154.311172</td>\n",
       "      <td>5.118417e+07</td>\n",
       "    </tr>\n",
       "    <tr>\n",
       "      <th>1196814</th>\n",
       "      <td>1237.0</td>\n",
       "      <td>216472.0</td>\n",
       "      <td>343398.91</td>\n",
       "      <td>269298.132411</td>\n",
       "      <td>126926.91</td>\n",
       "      <td>52826.132411</td>\n",
       "      <td>1.611044e+10</td>\n",
       "      <td>2.790600e+09</td>\n",
       "      <td>-74100.777589</td>\n",
       "      <td>5.490925e+09</td>\n",
       "    </tr>\n",
       "    <tr>\n",
       "      <th>1671272</th>\n",
       "      <td>1158.0</td>\n",
       "      <td>267315.0</td>\n",
       "      <td>343398.91</td>\n",
       "      <td>256239.438961</td>\n",
       "      <td>76083.91</td>\n",
       "      <td>-11075.561039</td>\n",
       "      <td>5.788761e+09</td>\n",
       "      <td>1.226681e+08</td>\n",
       "      <td>-87159.471039</td>\n",
       "      <td>7.596773e+09</td>\n",
       "    </tr>\n",
       "  </tbody>\n",
       "</table>\n",
       "</div>"
      ],
      "text/plain": [
       "           sqft  tax_value  baseline_preds           yhat  baseline_res  \\\n",
       "756336   1592.0   346902.0       343398.91  327979.602974      -3503.09   \n",
       "1095910  1588.0   354034.0       343398.91  327318.403305     -10635.09   \n",
       "106772   1642.0   650127.0       343398.91  336244.598828    -306728.09   \n",
       "1196814  1237.0   216472.0       343398.91  269298.132411     126926.91   \n",
       "1671272  1158.0   267315.0       343398.91  256239.438961      76083.91   \n",
       "\n",
       "              yhat_res  baseline_res_squared  yhat_res_squared  yhat_mean_res  \\\n",
       "756336   -18922.397026          1.227164e+07      3.580571e+08  -15419.307026   \n",
       "1095910  -26715.596695          1.131051e+08      7.137231e+08  -16080.506695   \n",
       "106772  -313882.401172          9.408212e+10      9.852216e+10   -7154.311172   \n",
       "1196814   52826.132411          1.611044e+10      2.790600e+09  -74100.777589   \n",
       "1671272  -11075.561039          5.788761e+09      1.226681e+08  -87159.471039   \n",
       "\n",
       "         yhat_mean_res_squared  \n",
       "756336            2.377550e+08  \n",
       "1095910           2.585827e+08  \n",
       "106772            5.118417e+07  \n",
       "1196814           5.490925e+09  \n",
       "1671272           7.596773e+09  "
      ]
     },
     "execution_count": 121,
     "metadata": {},
     "output_type": "execute_result"
    }
   ],
   "source": [
    "preds['yhat_mean_res_squared'] = preds['yhat_mean_res'] ** 2\n",
    "preds.head()"
   ]
  },
  {
   "cell_type": "code",
   "execution_count": 122,
   "id": "aa1f0d8a",
   "metadata": {},
   "outputs": [
    {
     "data": {
      "text/plain": [
       "1.09278163891029e+16"
      ]
     },
     "execution_count": 122,
     "metadata": {},
     "output_type": "execute_result"
    }
   ],
   "source": [
    "ess_baseline = 0\n",
    "ess_yhat = preds['yhat_mean_res_squared'].sum()\n",
    "ess_yhat"
   ]
  },
  {
   "cell_type": "code",
   "execution_count": 123,
   "id": "d2a29568",
   "metadata": {},
   "outputs": [],
   "source": [
    "tss_baseline = sse_baseline + ess_baseline"
   ]
  },
  {
   "cell_type": "code",
   "execution_count": 124,
   "id": "e6518418",
   "metadata": {},
   "outputs": [],
   "source": [
    "tss_yhat = sse_yhat + ess_yhat"
   ]
  },
  {
   "cell_type": "code",
   "execution_count": 125,
   "id": "e189f499",
   "metadata": {},
   "outputs": [
    {
     "data": {
      "text/plain": [
       "0.0"
      ]
     },
     "execution_count": 125,
     "metadata": {},
     "output_type": "execute_result"
    }
   ],
   "source": [
    "ess_baseline / tss_baseline"
   ]
  },
  {
   "cell_type": "code",
   "execution_count": 126,
   "id": "399cc786",
   "metadata": {},
   "outputs": [],
   "source": [
    "variance = ess_yhat / tss_yhat"
   ]
  },
  {
   "cell_type": "markdown",
   "id": "e84bbc15",
   "metadata": {},
   "source": [
    "## What is the amount of variance explained in your model?\n"
   ]
  },
  {
   "cell_type": "code",
   "execution_count": 127,
   "id": "412c7266",
   "metadata": {},
   "outputs": [
    {
     "data": {
      "text/plain": [
       "0.2082734293772006"
      ]
     },
     "execution_count": 127,
     "metadata": {},
     "output_type": "execute_result"
    }
   ],
   "source": [
    "variance"
   ]
  },
  {
   "cell_type": "markdown",
   "id": "e45ebc5d",
   "metadata": {},
   "source": [
    "## Is your model better than the baseline model?\n"
   ]
  },
  {
   "cell_type": "code",
   "execution_count": 128,
   "id": "d78be1ff",
   "metadata": {},
   "outputs": [
    {
     "name": "stdout",
     "output_type": "stream",
     "text": [
      "215669.56291815176\n",
      "191900.65996066702\n"
     ]
    }
   ],
   "source": [
    "print(rmse_baseline)\n",
    "print(rmse_yhat)"
   ]
  },
  {
   "cell_type": "markdown",
   "id": "d5ff4536",
   "metadata": {},
   "source": [
    "**yes my model is better**"
   ]
  },
  {
   "cell_type": "markdown",
   "id": "ad4cae68",
   "metadata": {},
   "source": [
    "- Create a file named evaluate.py that contains the following functions.\n",
    " - plot_residuals(y, yhat): creates a residual plot\n",
    " - regression_errors(y, yhat): returns the following values:\n",
    " - sum of squared errors (SSE)\n",
    " - explained sum of squares (ESS)\n",
    " - total sum of squares (TSS)\n",
    " - mean squared error (MSE)\n",
    " - root mean squared error (RMSE)\n",
    " - baseline_mean_errors(y): computes the SSE, MSE, and RMSE for the baseline model\n",
    " - better_than_baseline(y, yhat): returns true if your model performs better than the baseline, otherwise false"
   ]
  },
  {
   "cell_type": "code",
   "execution_count": 129,
   "id": "74eac32d",
   "metadata": {},
   "outputs": [],
   "source": [
    "def plot_residuals(df, y, yhat):\n",
    "    plt.scatter(x=y, y=yhat, data=df.sample(2000))\n",
    "    plt.xlabel(y)\n",
    "    plt.ylabel(yhat)\n",
    "    plt.show()"
   ]
  },
  {
   "cell_type": "code",
   "execution_count": 130,
   "id": "f079270a",
   "metadata": {},
   "outputs": [
    {
     "data": {
      "image/png": "[encoded data removed]",
      "text/plain": [
       "<Figure size 640x480 with 1 Axes>"
      ]
     },
     "metadata": {},
     "output_type": "display_data"
    }
   ],
   "source": [
    "plot_residuals(preds, 'sqft', 'yhat_res')"
   ]
  },
  {
   "cell_type": "code",
   "execution_count": 131,
   "id": "5148531b",
   "metadata": {},
   "outputs": [],
   "source": [
    "def regression_errors(df, target, feature, pred_table=False):\n",
    "    \n",
    "    '''\n",
    "    This function takes a dataframe, the target variable and the feature(s). It determines the baseline\n",
    "    for the data. It then fits a LinearRegression model to the data and determines the SSE, MSE, RMSE,\n",
    "    ESS, TSS and R^2. It returns all of the metrics in a data frame.\n",
    "    '''\n",
    "    \n",
    "    # creating a preds data frame and determining the baseline predictions\n",
    "    preds = df[feature]\n",
    "    preds[target] = df[[target]]\n",
    "    preds['baseline_preds'] = round(train[target].mean(), 2)\n",
    "    \n",
    "    # creating and fitting to a LinearRegression model then making predictions from the model\n",
    "    model = LinearRegression().fit(train[feature], train[[target]])\n",
    "    preds['yhat']= model.predict(train[feature])\n",
    "    \n",
    "    # determining the residuals of the baseline and predictions\n",
    "    preds['baseline_res'] = preds['baseline_preds'] - preds[target]\n",
    "    preds['yhat_res'] = preds['yhat'] - preds[target]\n",
    "    \n",
    "    # squaring the residuals\n",
    "    preds['baseline_res_squared'] = preds['baseline_res'] ** 2\n",
    "    preds['yhat_res_squared'] = preds['yhat_res'] ** 2\n",
    "    \n",
    "    # summing the squared residuals to get the SSE\n",
    "    sse_baseline = preds['baseline_res_squared'].sum()\n",
    "    sse_yhat = preds['yhat_res_squared'].sum()\n",
    "    \n",
    "    # dividing summed residuals by the number of predicitons to get the MSE\n",
    "    mse_baseline = sse_baseline/len(preds)\n",
    "    mse_yhat = sse_yhat/len(preds)\n",
    "    \n",
    "    # square rooting the MSE to get the RMSE\n",
    "    rmse_baseline = sqrt(mse_baseline)\n",
    "    rmse_yhat = sqrt(mse_yhat)\n",
    "    \n",
    "    # subtracting the baseline predictions from the predictions made by the model then squaring them\n",
    "    preds['yhat_mean_res'] = preds['yhat'] - preds['baseline_preds']\n",
    "    preds['yhat_mean_res_squared'] = preds['yhat_mean_res'] ** 2\n",
    "    \n",
    "    # summing the squared predictions to get the ESS\n",
    "    ess_baseline = 0\n",
    "    ess_yhat = preds['yhat_mean_res_squared'].sum()\n",
    "    \n",
    "    # adding the SSE and ESS to get the TSS\n",
    "    tss_baseline = sse_baseline + ess_baseline\n",
    "    tss_yhat = sse_yhat + ess_yhat\n",
    "    \n",
    "    # creating a DataFrame of the types of metrics\n",
    "    metrics = pd.DataFrame(np.array(['SSE','MSE','RMSE','ESS','TSS', 'R^2']), columns=['metric'])\n",
    "    \n",
    "    # add the metrics determined to the DataFrame\n",
    "    metrics['baseline'] = [sse_baseline, mse_baseline, rmse_baseline, \n",
    "                      ess_baseline, tss_baseline, (ess_baseline/tss_baseline)]\n",
    "    metrics['yhat'] = [sse_yhat, mse_yhat, rmse_yhat, ess_yhat, \n",
    "                  tss_yhat, (ess_yhat/tss_yhat)]\n",
    "    \n",
    "    # returning the DataFrame\n",
    "    if pred_table == True:\n",
    "        return metrics, preds\n",
    "    else:\n",
    "        return metrics\n",
    "\n"
   ]
  },
  {
   "cell_type": "code",
   "execution_count": 132,
   "id": "5cfd9ece",
   "metadata": {},
   "outputs": [
    {
     "data": {
      "text/html": [
       "<div>\n",
       "<style scoped>\n",
       "    .dataframe tbody tr th:only-of-type {\n",
       "        vertical-align: middle;\n",
       "    }\n",
       "\n",
       "    .dataframe tbody tr th {\n",
       "        vertical-align: top;\n",
       "    }\n",
       "\n",
       "    .dataframe thead th {\n",
       "        text-align: right;\n",
       "    }\n",
       "</style>\n",
       "<table border=\"1\" class=\"dataframe\">\n",
       "  <thead>\n",
       "    <tr style=\"text-align: right;\">\n",
       "      <th></th>\n",
       "      <th>metric</th>\n",
       "      <th>baseline</th>\n",
       "      <th>yhat</th>\n",
       "    </tr>\n",
       "  </thead>\n",
       "  <tbody>\n",
       "    <tr>\n",
       "      <th>0</th>\n",
       "      <td>SSE</td>\n",
       "      <td>5.246861e+16</td>\n",
       "      <td>4.154079e+16</td>\n",
       "    </tr>\n",
       "    <tr>\n",
       "      <th>1</th>\n",
       "      <td>MSE</td>\n",
       "      <td>4.651336e+10</td>\n",
       "      <td>3.682586e+10</td>\n",
       "    </tr>\n",
       "    <tr>\n",
       "      <th>2</th>\n",
       "      <td>RMSE</td>\n",
       "      <td>2.156696e+05</td>\n",
       "      <td>1.919007e+05</td>\n",
       "    </tr>\n",
       "    <tr>\n",
       "      <th>3</th>\n",
       "      <td>ESS</td>\n",
       "      <td>0.000000e+00</td>\n",
       "      <td>1.092782e+16</td>\n",
       "    </tr>\n",
       "    <tr>\n",
       "      <th>4</th>\n",
       "      <td>TSS</td>\n",
       "      <td>5.246861e+16</td>\n",
       "      <td>5.246861e+16</td>\n",
       "    </tr>\n",
       "    <tr>\n",
       "      <th>5</th>\n",
       "      <td>R^2</td>\n",
       "      <td>0.000000e+00</td>\n",
       "      <td>2.082734e-01</td>\n",
       "    </tr>\n",
       "  </tbody>\n",
       "</table>\n",
       "</div>"
      ],
      "text/plain": [
       "  metric      baseline          yhat\n",
       "0    SSE  5.246861e+16  4.154079e+16\n",
       "1    MSE  4.651336e+10  3.682586e+10\n",
       "2   RMSE  2.156696e+05  1.919007e+05\n",
       "3    ESS  0.000000e+00  1.092782e+16\n",
       "4    TSS  5.246861e+16  5.246861e+16\n",
       "5    R^2  0.000000e+00  2.082734e-01"
      ]
     },
     "execution_count": 132,
     "metadata": {},
     "output_type": "execute_result"
    }
   ],
   "source": [
    "regression_errors(train, 'tax_value', ['sqft'])"
   ]
  },
  {
   "cell_type": "code",
   "execution_count": 133,
   "id": "97803b0d",
   "metadata": {},
   "outputs": [],
   "source": [
    "def better_than_baseline(preds, target):\n",
    "    baseline = mean_squared_error(preds[target], preds['baseline_preds'], squared=False)\n",
    "    model = mean_squared_error(preds[target], preds['yhat'], squared=False)\n",
    "    diff = baseline - model\n",
    "    \n",
    "    if diff > 0:\n",
    "        return True\n",
    "    else: \n",
    "        return False\n",
    "    "
   ]
  },
  {
   "cell_type": "code",
   "execution_count": 134,
   "id": "d4dc921d",
   "metadata": {},
   "outputs": [
    {
     "data": {
      "text/plain": [
       "True"
      ]
     },
     "execution_count": 134,
     "metadata": {},
     "output_type": "execute_result"
    }
   ],
   "source": [
    "better_than_baseline(preds, 'tax_value')"
   ]
  },
  {
   "cell_type": "markdown",
   "id": "dae9c337",
   "metadata": {},
   "source": [
    "- Load the tips dataset from either pydataset or seaborn. Fit a linear regression model (ordinary least squares) and compute yhat, predictions of tip using total_bill.\n",
    "- Load the mpg dataset and fit a model that predicts highway mileage based on engine displacement. Take a look at all the regression evaluation metrics, and determine whether this model is better than the baseline model. Use the functions from your evaluate.py to help accomplish this."
   ]
  },
  {
   "cell_type": "code",
   "execution_count": 135,
   "id": "a5491779",
   "metadata": {},
   "outputs": [],
   "source": [
    "from pydataset import data"
   ]
  },
  {
   "cell_type": "code",
   "execution_count": 136,
   "id": "fe27bee5",
   "metadata": {},
   "outputs": [],
   "source": [
    "df = pd.DataFrame(data('tips'))"
   ]
  },
  {
   "cell_type": "code",
   "execution_count": 137,
   "id": "bdd06126",
   "metadata": {},
   "outputs": [
    {
     "data": {
      "text/html": [
       "<div>\n",
       "<style scoped>\n",
       "    .dataframe tbody tr th:only-of-type {\n",
       "        vertical-align: middle;\n",
       "    }\n",
       "\n",
       "    .dataframe tbody tr th {\n",
       "        vertical-align: top;\n",
       "    }\n",
       "\n",
       "    .dataframe thead th {\n",
       "        text-align: right;\n",
       "    }\n",
       "</style>\n",
       "<table border=\"1\" class=\"dataframe\">\n",
       "  <thead>\n",
       "    <tr style=\"text-align: right;\">\n",
       "      <th></th>\n",
       "      <th>total_bill</th>\n",
       "      <th>tip</th>\n",
       "      <th>sex</th>\n",
       "      <th>smoker</th>\n",
       "      <th>day</th>\n",
       "      <th>time</th>\n",
       "      <th>size</th>\n",
       "    </tr>\n",
       "  </thead>\n",
       "  <tbody>\n",
       "    <tr>\n",
       "      <th>1</th>\n",
       "      <td>16.99</td>\n",
       "      <td>1.01</td>\n",
       "      <td>Female</td>\n",
       "      <td>No</td>\n",
       "      <td>Sun</td>\n",
       "      <td>Dinner</td>\n",
       "      <td>2</td>\n",
       "    </tr>\n",
       "    <tr>\n",
       "      <th>2</th>\n",
       "      <td>10.34</td>\n",
       "      <td>1.66</td>\n",
       "      <td>Male</td>\n",
       "      <td>No</td>\n",
       "      <td>Sun</td>\n",
       "      <td>Dinner</td>\n",
       "      <td>3</td>\n",
       "    </tr>\n",
       "    <tr>\n",
       "      <th>3</th>\n",
       "      <td>21.01</td>\n",
       "      <td>3.50</td>\n",
       "      <td>Male</td>\n",
       "      <td>No</td>\n",
       "      <td>Sun</td>\n",
       "      <td>Dinner</td>\n",
       "      <td>3</td>\n",
       "    </tr>\n",
       "    <tr>\n",
       "      <th>4</th>\n",
       "      <td>23.68</td>\n",
       "      <td>3.31</td>\n",
       "      <td>Male</td>\n",
       "      <td>No</td>\n",
       "      <td>Sun</td>\n",
       "      <td>Dinner</td>\n",
       "      <td>2</td>\n",
       "    </tr>\n",
       "    <tr>\n",
       "      <th>5</th>\n",
       "      <td>24.59</td>\n",
       "      <td>3.61</td>\n",
       "      <td>Female</td>\n",
       "      <td>No</td>\n",
       "      <td>Sun</td>\n",
       "      <td>Dinner</td>\n",
       "      <td>4</td>\n",
       "    </tr>\n",
       "  </tbody>\n",
       "</table>\n",
       "</div>"
      ],
      "text/plain": [
       "   total_bill   tip     sex smoker  day    time  size\n",
       "1       16.99  1.01  Female     No  Sun  Dinner     2\n",
       "2       10.34  1.66    Male     No  Sun  Dinner     3\n",
       "3       21.01  3.50    Male     No  Sun  Dinner     3\n",
       "4       23.68  3.31    Male     No  Sun  Dinner     2\n",
       "5       24.59  3.61  Female     No  Sun  Dinner     4"
      ]
     },
     "execution_count": 137,
     "metadata": {},
     "output_type": "execute_result"
    }
   ],
   "source": [
    "df.head()"
   ]
  },
  {
   "cell_type": "code",
   "execution_count": 138,
   "id": "f1355c36",
   "metadata": {},
   "outputs": [],
   "source": [
    "train, val, split = train_val_test(df)"
   ]
  },
  {
   "cell_type": "code",
   "execution_count": 139,
   "id": "5cedd23c",
   "metadata": {},
   "outputs": [
    {
     "data": {
      "text/html": [
       "<div>\n",
       "<style scoped>\n",
       "    .dataframe tbody tr th:only-of-type {\n",
       "        vertical-align: middle;\n",
       "    }\n",
       "\n",
       "    .dataframe tbody tr th {\n",
       "        vertical-align: top;\n",
       "    }\n",
       "\n",
       "    .dataframe thead th {\n",
       "        text-align: right;\n",
       "    }\n",
       "</style>\n",
       "<table border=\"1\" class=\"dataframe\">\n",
       "  <thead>\n",
       "    <tr style=\"text-align: right;\">\n",
       "      <th></th>\n",
       "      <th>metric</th>\n",
       "      <th>baseline</th>\n",
       "      <th>yhat</th>\n",
       "    </tr>\n",
       "  </thead>\n",
       "  <tbody>\n",
       "    <tr>\n",
       "      <th>0</th>\n",
       "      <td>SSE</td>\n",
       "      <td>332.786500</td>\n",
       "      <td>175.272908</td>\n",
       "    </tr>\n",
       "    <tr>\n",
       "      <th>1</th>\n",
       "      <td>MSE</td>\n",
       "      <td>2.279360</td>\n",
       "      <td>1.200499</td>\n",
       "    </tr>\n",
       "    <tr>\n",
       "      <th>2</th>\n",
       "      <td>RMSE</td>\n",
       "      <td>1.509755</td>\n",
       "      <td>1.095673</td>\n",
       "    </tr>\n",
       "    <tr>\n",
       "      <th>3</th>\n",
       "      <td>ESS</td>\n",
       "      <td>0.000000</td>\n",
       "      <td>157.513592</td>\n",
       "    </tr>\n",
       "    <tr>\n",
       "      <th>4</th>\n",
       "      <td>TSS</td>\n",
       "      <td>332.786500</td>\n",
       "      <td>332.786500</td>\n",
       "    </tr>\n",
       "    <tr>\n",
       "      <th>5</th>\n",
       "      <td>R^2</td>\n",
       "      <td>0.000000</td>\n",
       "      <td>0.473317</td>\n",
       "    </tr>\n",
       "  </tbody>\n",
       "</table>\n",
       "</div>"
      ],
      "text/plain": [
       "  metric    baseline        yhat\n",
       "0    SSE  332.786500  175.272908\n",
       "1    MSE    2.279360    1.200499\n",
       "2   RMSE    1.509755    1.095673\n",
       "3    ESS    0.000000  157.513592\n",
       "4    TSS  332.786500  332.786500\n",
       "5    R^2    0.000000    0.473317"
      ]
     },
     "execution_count": 139,
     "metadata": {},
     "output_type": "execute_result"
    }
   ],
   "source": [
    "regression_errors(train, 'tip', ['total_bill'])"
   ]
  },
  {
   "cell_type": "code",
   "execution_count": 140,
   "id": "9f2407fa",
   "metadata": {},
   "outputs": [
    {
     "data": {
      "text/html": [
       "<div>\n",
       "<style scoped>\n",
       "    .dataframe tbody tr th:only-of-type {\n",
       "        vertical-align: middle;\n",
       "    }\n",
       "\n",
       "    .dataframe tbody tr th {\n",
       "        vertical-align: top;\n",
       "    }\n",
       "\n",
       "    .dataframe thead th {\n",
       "        text-align: right;\n",
       "    }\n",
       "</style>\n",
       "<table border=\"1\" class=\"dataframe\">\n",
       "  <thead>\n",
       "    <tr style=\"text-align: right;\">\n",
       "      <th></th>\n",
       "      <th>manufacturer</th>\n",
       "      <th>model</th>\n",
       "      <th>displ</th>\n",
       "      <th>year</th>\n",
       "      <th>cyl</th>\n",
       "      <th>trans</th>\n",
       "      <th>drv</th>\n",
       "      <th>cty</th>\n",
       "      <th>hwy</th>\n",
       "      <th>fl</th>\n",
       "      <th>class</th>\n",
       "    </tr>\n",
       "  </thead>\n",
       "  <tbody>\n",
       "    <tr>\n",
       "      <th>1</th>\n",
       "      <td>audi</td>\n",
       "      <td>a4</td>\n",
       "      <td>1.8</td>\n",
       "      <td>1999</td>\n",
       "      <td>4</td>\n",
       "      <td>auto(l5)</td>\n",
       "      <td>f</td>\n",
       "      <td>18</td>\n",
       "      <td>29</td>\n",
       "      <td>p</td>\n",
       "      <td>compact</td>\n",
       "    </tr>\n",
       "    <tr>\n",
       "      <th>2</th>\n",
       "      <td>audi</td>\n",
       "      <td>a4</td>\n",
       "      <td>1.8</td>\n",
       "      <td>1999</td>\n",
       "      <td>4</td>\n",
       "      <td>manual(m5)</td>\n",
       "      <td>f</td>\n",
       "      <td>21</td>\n",
       "      <td>29</td>\n",
       "      <td>p</td>\n",
       "      <td>compact</td>\n",
       "    </tr>\n",
       "    <tr>\n",
       "      <th>3</th>\n",
       "      <td>audi</td>\n",
       "      <td>a4</td>\n",
       "      <td>2.0</td>\n",
       "      <td>2008</td>\n",
       "      <td>4</td>\n",
       "      <td>manual(m6)</td>\n",
       "      <td>f</td>\n",
       "      <td>20</td>\n",
       "      <td>31</td>\n",
       "      <td>p</td>\n",
       "      <td>compact</td>\n",
       "    </tr>\n",
       "    <tr>\n",
       "      <th>4</th>\n",
       "      <td>audi</td>\n",
       "      <td>a4</td>\n",
       "      <td>2.0</td>\n",
       "      <td>2008</td>\n",
       "      <td>4</td>\n",
       "      <td>auto(av)</td>\n",
       "      <td>f</td>\n",
       "      <td>21</td>\n",
       "      <td>30</td>\n",
       "      <td>p</td>\n",
       "      <td>compact</td>\n",
       "    </tr>\n",
       "    <tr>\n",
       "      <th>5</th>\n",
       "      <td>audi</td>\n",
       "      <td>a4</td>\n",
       "      <td>2.8</td>\n",
       "      <td>1999</td>\n",
       "      <td>6</td>\n",
       "      <td>auto(l5)</td>\n",
       "      <td>f</td>\n",
       "      <td>16</td>\n",
       "      <td>26</td>\n",
       "      <td>p</td>\n",
       "      <td>compact</td>\n",
       "    </tr>\n",
       "  </tbody>\n",
       "</table>\n",
       "</div>"
      ],
      "text/plain": [
       "  manufacturer model  displ  year  cyl       trans drv  cty  hwy fl    class\n",
       "1         audi    a4    1.8  1999    4    auto(l5)   f   18   29  p  compact\n",
       "2         audi    a4    1.8  1999    4  manual(m5)   f   21   29  p  compact\n",
       "3         audi    a4    2.0  2008    4  manual(m6)   f   20   31  p  compact\n",
       "4         audi    a4    2.0  2008    4    auto(av)   f   21   30  p  compact\n",
       "5         audi    a4    2.8  1999    6    auto(l5)   f   16   26  p  compact"
      ]
     },
     "execution_count": 140,
     "metadata": {},
     "output_type": "execute_result"
    }
   ],
   "source": [
    "df = pd.DataFrame(data('mpg'))\n",
    "df.head()"
   ]
  },
  {
   "cell_type": "code",
   "execution_count": 141,
   "id": "da405546",
   "metadata": {},
   "outputs": [],
   "source": [
    "train, val, test = train_val_test(df)"
   ]
  },
  {
   "cell_type": "code",
   "execution_count": 142,
   "id": "d8504d3c",
   "metadata": {},
   "outputs": [
    {
     "data": {
      "text/html": [
       "<div>\n",
       "<style scoped>\n",
       "    .dataframe tbody tr th:only-of-type {\n",
       "        vertical-align: middle;\n",
       "    }\n",
       "\n",
       "    .dataframe tbody tr th {\n",
       "        vertical-align: top;\n",
       "    }\n",
       "\n",
       "    .dataframe thead th {\n",
       "        text-align: right;\n",
       "    }\n",
       "</style>\n",
       "<table border=\"1\" class=\"dataframe\">\n",
       "  <thead>\n",
       "    <tr style=\"text-align: right;\">\n",
       "      <th></th>\n",
       "      <th>metric</th>\n",
       "      <th>baseline</th>\n",
       "      <th>yhat</th>\n",
       "    </tr>\n",
       "  </thead>\n",
       "  <tbody>\n",
       "    <tr>\n",
       "      <th>0</th>\n",
       "      <td>SSE</td>\n",
       "      <td>5141.686000</td>\n",
       "      <td>2148.209197</td>\n",
       "    </tr>\n",
       "    <tr>\n",
       "      <th>1</th>\n",
       "      <td>MSE</td>\n",
       "      <td>36.726329</td>\n",
       "      <td>15.344351</td>\n",
       "    </tr>\n",
       "    <tr>\n",
       "      <th>2</th>\n",
       "      <td>RMSE</td>\n",
       "      <td>6.060225</td>\n",
       "      <td>3.917187</td>\n",
       "    </tr>\n",
       "    <tr>\n",
       "      <th>3</th>\n",
       "      <td>ESS</td>\n",
       "      <td>0.000000</td>\n",
       "      <td>2993.476803</td>\n",
       "    </tr>\n",
       "    <tr>\n",
       "      <th>4</th>\n",
       "      <td>TSS</td>\n",
       "      <td>5141.686000</td>\n",
       "      <td>5141.686000</td>\n",
       "    </tr>\n",
       "    <tr>\n",
       "      <th>5</th>\n",
       "      <td>R^2</td>\n",
       "      <td>0.000000</td>\n",
       "      <td>0.582198</td>\n",
       "    </tr>\n",
       "  </tbody>\n",
       "</table>\n",
       "</div>"
      ],
      "text/plain": [
       "  metric     baseline         yhat\n",
       "0    SSE  5141.686000  2148.209197\n",
       "1    MSE    36.726329    15.344351\n",
       "2   RMSE     6.060225     3.917187\n",
       "3    ESS     0.000000  2993.476803\n",
       "4    TSS  5141.686000  5141.686000\n",
       "5    R^2     0.000000     0.582198"
      ]
     },
     "execution_count": 142,
     "metadata": {},
     "output_type": "execute_result"
    }
   ],
   "source": [
    "metrics, preds = regression_errors(train, 'hwy', ['displ'], True)\n",
    "metrics"
   ]
  },
  {
   "cell_type": "markdown",
   "id": "74d72006",
   "metadata": {},
   "source": [
    "**The Linear Regression model is better than the baseline for both the tips dataset and the mpg dataset**"
   ]
  },
  {
   "cell_type": "code",
   "execution_count": 143,
   "id": "0c424bdb",
   "metadata": {},
   "outputs": [
    {
     "data": {
      "text/html": [
       "<div>\n",
       "<style scoped>\n",
       "    .dataframe tbody tr th:only-of-type {\n",
       "        vertical-align: middle;\n",
       "    }\n",
       "\n",
       "    .dataframe tbody tr th {\n",
       "        vertical-align: top;\n",
       "    }\n",
       "\n",
       "    .dataframe thead th {\n",
       "        text-align: right;\n",
       "    }\n",
       "</style>\n",
       "<table border=\"1\" class=\"dataframe\">\n",
       "  <thead>\n",
       "    <tr style=\"text-align: right;\">\n",
       "      <th></th>\n",
       "      <th>displ</th>\n",
       "      <th>hwy</th>\n",
       "      <th>baseline_preds</th>\n",
       "      <th>yhat</th>\n",
       "      <th>baseline_res</th>\n",
       "      <th>yhat_res</th>\n",
       "      <th>baseline_res_squared</th>\n",
       "      <th>yhat_res_squared</th>\n",
       "      <th>yhat_mean_res</th>\n",
       "      <th>yhat_mean_res_squared</th>\n",
       "    </tr>\n",
       "  </thead>\n",
       "  <tbody>\n",
       "    <tr>\n",
       "      <th>42</th>\n",
       "      <td>3.3</td>\n",
       "      <td>24</td>\n",
       "      <td>23.73</td>\n",
       "      <td>24.002384</td>\n",
       "      <td>-0.27</td>\n",
       "      <td>0.002384</td>\n",
       "      <td>0.0729</td>\n",
       "      <td>0.000006</td>\n",
       "      <td>0.272384</td>\n",
       "      <td>0.074193</td>\n",
       "    </tr>\n",
       "    <tr>\n",
       "      <th>102</th>\n",
       "      <td>1.6</td>\n",
       "      <td>32</td>\n",
       "      <td>23.73</td>\n",
       "      <td>30.036413</td>\n",
       "      <td>-8.27</td>\n",
       "      <td>-1.963587</td>\n",
       "      <td>68.3929</td>\n",
       "      <td>3.855674</td>\n",
       "      <td>6.306413</td>\n",
       "      <td>39.770846</td>\n",
       "    </tr>\n",
       "    <tr>\n",
       "      <th>143</th>\n",
       "      <td>2.4</td>\n",
       "      <td>27</td>\n",
       "      <td>23.73</td>\n",
       "      <td>27.196870</td>\n",
       "      <td>-3.27</td>\n",
       "      <td>0.196870</td>\n",
       "      <td>10.6929</td>\n",
       "      <td>0.038758</td>\n",
       "      <td>3.466870</td>\n",
       "      <td>12.019189</td>\n",
       "    </tr>\n",
       "    <tr>\n",
       "      <th>79</th>\n",
       "      <td>4.0</td>\n",
       "      <td>19</td>\n",
       "      <td>23.73</td>\n",
       "      <td>21.517784</td>\n",
       "      <td>4.73</td>\n",
       "      <td>2.517784</td>\n",
       "      <td>22.3729</td>\n",
       "      <td>6.339239</td>\n",
       "      <td>-2.212216</td>\n",
       "      <td>4.893898</td>\n",
       "    </tr>\n",
       "    <tr>\n",
       "      <th>138</th>\n",
       "      <td>4.0</td>\n",
       "      <td>17</td>\n",
       "      <td>23.73</td>\n",
       "      <td>21.517784</td>\n",
       "      <td>6.73</td>\n",
       "      <td>4.517784</td>\n",
       "      <td>45.2929</td>\n",
       "      <td>20.410377</td>\n",
       "      <td>-2.212216</td>\n",
       "      <td>4.893898</td>\n",
       "    </tr>\n",
       "  </tbody>\n",
       "</table>\n",
       "</div>"
      ],
      "text/plain": [
       "     displ  hwy  baseline_preds       yhat  baseline_res  yhat_res  \\\n",
       "42     3.3   24           23.73  24.002384         -0.27  0.002384   \n",
       "102    1.6   32           23.73  30.036413         -8.27 -1.963587   \n",
       "143    2.4   27           23.73  27.196870         -3.27  0.196870   \n",
       "79     4.0   19           23.73  21.517784          4.73  2.517784   \n",
       "138    4.0   17           23.73  21.517784          6.73  4.517784   \n",
       "\n",
       "     baseline_res_squared  yhat_res_squared  yhat_mean_res  \\\n",
       "42                 0.0729          0.000006       0.272384   \n",
       "102               68.3929          3.855674       6.306413   \n",
       "143               10.6929          0.038758       3.466870   \n",
       "79                22.3729          6.339239      -2.212216   \n",
       "138               45.2929         20.410377      -2.212216   \n",
       "\n",
       "     yhat_mean_res_squared  \n",
       "42                0.074193  \n",
       "102              39.770846  \n",
       "143              12.019189  \n",
       "79                4.893898  \n",
       "138               4.893898  "
      ]
     },
     "execution_count": 143,
     "metadata": {},
     "output_type": "execute_result"
    }
   ],
   "source": [
    "preds.head()"
   ]
  },
  {
   "cell_type": "code",
   "execution_count": 148,
   "id": "a2791210",
   "metadata": {},
   "outputs": [
    {
     "data": {
      "text/plain": [
       "Index(['bed', 'bath', 'sqft', 'tax_value', 'year', 'taxamount', 'fips'], dtype='object')"
      ]
     },
     "execution_count": 148,
     "metadata": {},
     "output_type": "execute_result"
    }
   ],
   "source": [
    "train.columns"
   ]
  },
  {
   "cell_type": "code",
   "execution_count": 176,
   "id": "d55c8f81",
   "metadata": {},
   "outputs": [],
   "source": [
    "metrics, preds = regression_errors(train, 'tax_value', ['sqft','bed','bath','year'], True)"
   ]
  },
  {
   "cell_type": "code",
   "execution_count": 177,
   "id": "64fdb69e",
   "metadata": {},
   "outputs": [
    {
     "data": {
      "text/html": [
       "<div>\n",
       "<style scoped>\n",
       "    .dataframe tbody tr th:only-of-type {\n",
       "        vertical-align: middle;\n",
       "    }\n",
       "\n",
       "    .dataframe tbody tr th {\n",
       "        vertical-align: top;\n",
       "    }\n",
       "\n",
       "    .dataframe thead th {\n",
       "        text-align: right;\n",
       "    }\n",
       "</style>\n",
       "<table border=\"1\" class=\"dataframe\">\n",
       "  <thead>\n",
       "    <tr style=\"text-align: right;\">\n",
       "      <th></th>\n",
       "      <th>metric</th>\n",
       "      <th>baseline</th>\n",
       "      <th>yhat</th>\n",
       "    </tr>\n",
       "  </thead>\n",
       "  <tbody>\n",
       "    <tr>\n",
       "      <th>0</th>\n",
       "      <td>SSE</td>\n",
       "      <td>5.246861e+16</td>\n",
       "      <td>4.099325e+16</td>\n",
       "    </tr>\n",
       "    <tr>\n",
       "      <th>1</th>\n",
       "      <td>MSE</td>\n",
       "      <td>4.651336e+10</td>\n",
       "      <td>3.634047e+10</td>\n",
       "    </tr>\n",
       "    <tr>\n",
       "      <th>2</th>\n",
       "      <td>RMSE</td>\n",
       "      <td>2.156696e+05</td>\n",
       "      <td>1.906318e+05</td>\n",
       "    </tr>\n",
       "    <tr>\n",
       "      <th>3</th>\n",
       "      <td>ESS</td>\n",
       "      <td>0.000000e+00</td>\n",
       "      <td>1.147536e+16</td>\n",
       "    </tr>\n",
       "    <tr>\n",
       "      <th>4</th>\n",
       "      <td>TSS</td>\n",
       "      <td>5.246861e+16</td>\n",
       "      <td>5.246861e+16</td>\n",
       "    </tr>\n",
       "    <tr>\n",
       "      <th>5</th>\n",
       "      <td>R^2</td>\n",
       "      <td>0.000000e+00</td>\n",
       "      <td>2.187091e-01</td>\n",
       "    </tr>\n",
       "  </tbody>\n",
       "</table>\n",
       "</div>"
      ],
      "text/plain": [
       "  metric      baseline          yhat\n",
       "0    SSE  5.246861e+16  4.099325e+16\n",
       "1    MSE  4.651336e+10  3.634047e+10\n",
       "2   RMSE  2.156696e+05  1.906318e+05\n",
       "3    ESS  0.000000e+00  1.147536e+16\n",
       "4    TSS  5.246861e+16  5.246861e+16\n",
       "5    R^2  0.000000e+00  2.187091e-01"
      ]
     },
     "execution_count": 177,
     "metadata": {},
     "output_type": "execute_result"
    }
   ],
   "source": [
    "metrics"
   ]
  },
  {
   "cell_type": "code",
   "execution_count": 178,
   "id": "84ede988",
   "metadata": {},
   "outputs": [
    {
     "data": {
      "text/html": [
       "<div>\n",
       "<style scoped>\n",
       "    .dataframe tbody tr th:only-of-type {\n",
       "        vertical-align: middle;\n",
       "    }\n",
       "\n",
       "    .dataframe tbody tr th {\n",
       "        vertical-align: top;\n",
       "    }\n",
       "\n",
       "    .dataframe thead th {\n",
       "        text-align: right;\n",
       "    }\n",
       "</style>\n",
       "<table border=\"1\" class=\"dataframe\">\n",
       "  <thead>\n",
       "    <tr style=\"text-align: right;\">\n",
       "      <th></th>\n",
       "      <th>sqft</th>\n",
       "      <th>bed</th>\n",
       "      <th>bath</th>\n",
       "      <th>year</th>\n",
       "      <th>tax_value</th>\n",
       "      <th>baseline_preds</th>\n",
       "      <th>yhat</th>\n",
       "      <th>baseline_res</th>\n",
       "      <th>yhat_res</th>\n",
       "      <th>baseline_res_squared</th>\n",
       "      <th>yhat_res_squared</th>\n",
       "      <th>yhat_mean_res</th>\n",
       "      <th>yhat_mean_res_squared</th>\n",
       "    </tr>\n",
       "  </thead>\n",
       "  <tbody>\n",
       "    <tr>\n",
       "      <th>756336</th>\n",
       "      <td>1592.0</td>\n",
       "      <td>4.0</td>\n",
       "      <td>2.0</td>\n",
       "      <td>1948.0</td>\n",
       "      <td>346902.0</td>\n",
       "      <td>343398.91</td>\n",
       "      <td>297158.389640</td>\n",
       "      <td>-3503.09</td>\n",
       "      <td>-49743.610360</td>\n",
       "      <td>1.227164e+07</td>\n",
       "      <td>2.474427e+09</td>\n",
       "      <td>-46240.520360</td>\n",
       "      <td>2.138186e+09</td>\n",
       "    </tr>\n",
       "    <tr>\n",
       "      <th>1095910</th>\n",
       "      <td>1588.0</td>\n",
       "      <td>3.0</td>\n",
       "      <td>2.0</td>\n",
       "      <td>1958.0</td>\n",
       "      <td>354034.0</td>\n",
       "      <td>343398.91</td>\n",
       "      <td>332219.559711</td>\n",
       "      <td>-10635.09</td>\n",
       "      <td>-21814.440289</td>\n",
       "      <td>1.131051e+08</td>\n",
       "      <td>4.758698e+08</td>\n",
       "      <td>-11179.350289</td>\n",
       "      <td>1.249779e+08</td>\n",
       "    </tr>\n",
       "    <tr>\n",
       "      <th>106772</th>\n",
       "      <td>1642.0</td>\n",
       "      <td>3.0</td>\n",
       "      <td>2.0</td>\n",
       "      <td>1973.0</td>\n",
       "      <td>650127.0</td>\n",
       "      <td>343398.91</td>\n",
       "      <td>346199.082734</td>\n",
       "      <td>-306728.09</td>\n",
       "      <td>-303927.917266</td>\n",
       "      <td>9.408212e+10</td>\n",
       "      <td>9.237218e+10</td>\n",
       "      <td>2800.172734</td>\n",
       "      <td>7.840967e+06</td>\n",
       "    </tr>\n",
       "    <tr>\n",
       "      <th>1196814</th>\n",
       "      <td>1237.0</td>\n",
       "      <td>2.0</td>\n",
       "      <td>1.0</td>\n",
       "      <td>1942.0</td>\n",
       "      <td>216472.0</td>\n",
       "      <td>343398.91</td>\n",
       "      <td>276308.841312</td>\n",
       "      <td>126926.91</td>\n",
       "      <td>59836.841312</td>\n",
       "      <td>1.611044e+10</td>\n",
       "      <td>3.580448e+09</td>\n",
       "      <td>-67090.068688</td>\n",
       "      <td>4.501077e+09</td>\n",
       "    </tr>\n",
       "    <tr>\n",
       "      <th>1671272</th>\n",
       "      <td>1158.0</td>\n",
       "      <td>3.0</td>\n",
       "      <td>2.0</td>\n",
       "      <td>1932.0</td>\n",
       "      <td>267315.0</td>\n",
       "      <td>343398.91</td>\n",
       "      <td>254145.786243</td>\n",
       "      <td>76083.91</td>\n",
       "      <td>-13169.213757</td>\n",
       "      <td>5.788761e+09</td>\n",
       "      <td>1.734282e+08</td>\n",
       "      <td>-89253.123757</td>\n",
       "      <td>7.966120e+09</td>\n",
       "    </tr>\n",
       "  </tbody>\n",
       "</table>\n",
       "</div>"
      ],
      "text/plain": [
       "           sqft  bed  bath    year  tax_value  baseline_preds           yhat  \\\n",
       "756336   1592.0  4.0   2.0  1948.0   346902.0       343398.91  297158.389640   \n",
       "1095910  1588.0  3.0   2.0  1958.0   354034.0       343398.91  332219.559711   \n",
       "106772   1642.0  3.0   2.0  1973.0   650127.0       343398.91  346199.082734   \n",
       "1196814  1237.0  2.0   1.0  1942.0   216472.0       343398.91  276308.841312   \n",
       "1671272  1158.0  3.0   2.0  1932.0   267315.0       343398.91  254145.786243   \n",
       "\n",
       "         baseline_res       yhat_res  baseline_res_squared  yhat_res_squared  \\\n",
       "756336       -3503.09  -49743.610360          1.227164e+07      2.474427e+09   \n",
       "1095910     -10635.09  -21814.440289          1.131051e+08      4.758698e+08   \n",
       "106772     -306728.09 -303927.917266          9.408212e+10      9.237218e+10   \n",
       "1196814     126926.91   59836.841312          1.611044e+10      3.580448e+09   \n",
       "1671272      76083.91  -13169.213757          5.788761e+09      1.734282e+08   \n",
       "\n",
       "         yhat_mean_res  yhat_mean_res_squared  \n",
       "756336   -46240.520360           2.138186e+09  \n",
       "1095910  -11179.350289           1.249779e+08  \n",
       "106772     2800.172734           7.840967e+06  \n",
       "1196814  -67090.068688           4.501077e+09  \n",
       "1671272  -89253.123757           7.966120e+09  "
      ]
     },
     "execution_count": 178,
     "metadata": {},
     "output_type": "execute_result"
    }
   ],
   "source": [
    "preds.head()"
   ]
  },
  {
   "cell_type": "code",
   "execution_count": null,
   "id": "a1256173",
   "metadata": {},
   "outputs": [],
   "source": []
  }
 ],
 "metadata": {
  "kernelspec": {
   "display_name": "Python 3 (ipykernel)",
   "language": "python",
   "name": "python3"
  },
  "language_info": {
   "codemirror_mode": {
    "name": "ipython",
    "version": 3
   },
   "file_extension": ".py",
   "mimetype": "text/x-python",
   "name": "python",
   "nbconvert_exporter": "python",
   "pygments_lexer": "ipython3",
   "version": "3.9.13"
  }
 },
 "nbformat": 4,
 "nbformat_minor": 5
}
